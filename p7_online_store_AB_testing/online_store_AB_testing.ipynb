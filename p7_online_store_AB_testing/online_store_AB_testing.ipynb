{
 "cells": [
  {
   "cell_type": "markdown",
   "metadata": {},
   "source": [
    "## Boosting revenue with AB Testing  "
   ]
  },
  {
   "cell_type": "markdown",
   "metadata": {},
   "source": [
    "<span style=\"color:blue\"> **Project description:** </span> In this project, we work as an analyst in an online store. Together with the marketing\n",
    "department, we've compiled a list of hypotheses that may help boost\n",
    "revenue. We need to prioritize these hypotheses, launch an A/B test, and analyze the results."
   ]
  },
  {
   "cell_type": "markdown",
   "metadata": {},
   "source": [
    "<span style=\"color:blue\"> **Project goal:** </span> The aim of this project is, on one hand, to prioritize experiments with the help of previously collected scores for nine hypotheses' impact, confidence, effort, and reach parameters; and on the other hand, to analyze the results of a launched A/B test. Our goal is to decide whether to continue or stop the test and interpret the test results. For that purpose, we will compute the group's cumulative convertion rates and cumulative order sizes. We will also test whether the differences between the computed metrics for the groups are statistically significant. "
   ]
  },
  {
   "cell_type": "markdown",
   "metadata": {},
   "source": [
    "### Table of Contents\n",
    "\n",
    "* [Part 1](#step1) Prioritizing Hypothesis\n",
    "    * [Step 1.1](#step1_1) Preliminary preprocessing\n",
    "    * [Step 1.2](#step1_2) ICE vs. RICE frameworks\n",
    "* [Part 2](#step2) A/B Test Analysis\n",
    "    * [Step 2.1](#step2_1) Data Preprocessing \n",
    "    * [Step 2.2](#step2_2) Computing cumulative and relative metrics  \n",
    "    * [Step 2.3](#step2_3) Outlier analysis in orders and prices\n",
    "    * [Step 2.4](#step2_4) Statistical significance of the difference in performance between groups\n",
    "* [Step 3](#step3) General conclusions\n"
   ]
  },
  {
   "cell_type": "markdown",
   "metadata": {},
   "source": [
    "<span style=\"color:blue\">**Importing libraries:**</span> First, we import all code libraries and define output style functions we will be using in our project."
   ]
  },
  {
   "cell_type": "code",
   "execution_count": 1,
   "metadata": {},
   "outputs": [],
   "source": [
    "# Import libraries and define output style functions.\n",
    "\n",
    "# Import the pandas library \n",
    "#      (url-> https://pandas.pydata.org/).\n",
    "import pandas as pd\n",
    "\n",
    "# Import the datetime library \n",
    "#      (https://docs.python.org/3/library/datetime.html).\n",
    "import datetime as dt\n",
    "\n",
    "# Import pyplot module from matplotlib \n",
    "#      (url-> https://matplotlib.org/3.1.1/api/_as_gen/matplotlib.pyplot.html).\n",
    "import matplotlib.pyplot as plt\n",
    "\n",
    "# Import seaborn library\n",
    "#      (https://seaborn.pydata.org/).\n",
    "import seaborn as sns\n",
    "\n",
    "# Import the numpy library \n",
    "#      (url-> https://pandas.pydata.org/).\n",
    "import numpy as np\n",
    "\n",
    "# Import stats module from scipy  \n",
    "#      (url-> https://https://www.scipy.org/).\n",
    "from scipy import stats as st\n",
    "\n",
    "# Import the warnings and ignore them\n",
    "#      (url-> https://docs.python.org/3/library/warnings.html).\n",
    "import warnings\n",
    "warnings.filterwarnings('ignore')\n",
    "\n",
    "# Import Markdown and display modules from IPython.display library \n",
    "#      (url -> https://ipython.readthedocs.io/en/stable/api/generated/IPython.display.html).\n",
    "from IPython.display import Markdown, display\n"
   ]
  },
  {
   "cell_type": "code",
   "execution_count": 2,
   "metadata": {},
   "outputs": [],
   "source": [
    "# Define printmd() function to print code in blue color.\n",
    "def printmd(string, color=None):\n",
    "    colorstr = \"<span style='color:{}'>{}</span>\".format(color, string)\n",
    "    display(Markdown(colorstr))\n",
    "    "
   ]
  },
  {
   "cell_type": "markdown",
   "metadata": {},
   "source": [
    "<a class=\"anchor\" id=\"step1\"></a> \n",
    "### Step 1. Prioritizing Hypothesis: ICE vs. RICE"
   ]
  },
  {
   "cell_type": "markdown",
   "metadata": {},
   "source": [
    "In this part of the project, we are provided a dataset with 9 hypothesis. We will prioritize these hypothesis first using the ICE framework and then the RICE framework. We will then compare the results of both frameworks."
   ]
  },
  {
   "cell_type": "markdown",
   "metadata": {},
   "source": [
    "We have been provided with the following dataset path:\n",
    "- `/datasets/hypothesis_us.csv`"
   ]
  },
  {
   "cell_type": "markdown",
   "metadata": {},
   "source": [
    "We are also handed the following information about the fields in this dataset:\n",
    "- `Hypothesis`: brief descriptions of the hypotheses\n",
    "- `Reach`: user reach, on a scale of one to ten\n",
    "- `Impact`: impact on users, on a scale of one to ten\n",
    "- `Confidence`: confidence in the hypothesis, on a scale of one to ten\n",
    "- `Effort`: the resources required to test a hypothesis, on a scale of one to ten. The higher the value, the more resource-intensive the test."
   ]
  },
  {
   "cell_type": "markdown",
   "metadata": {},
   "source": [
    "Let us first prepare the data for analysis."
   ]
  },
  {
   "cell_type": "markdown",
   "metadata": {},
   "source": [
    "####  Step 1.1 Preliminary preprocessing <a class=\"anchor\" id=\"step1_1\"></a>"
   ]
  },
  {
   "cell_type": "markdown",
   "metadata": {},
   "source": [
    "Here we open the data file and explore the format in which information is stored."
   ]
  },
  {
   "cell_type": "code",
   "execution_count": 3,
   "metadata": {},
   "outputs": [
    {
     "data": {
      "text/markdown": [
       "<span style='color:blue'>hypotheses dataframe info & content</span>"
      ],
      "text/plain": [
       "<IPython.core.display.Markdown object>"
      ]
     },
     "metadata": {},
     "output_type": "display_data"
    },
    {
     "name": "stdout",
     "output_type": "stream",
     "text": [
      "<class 'pandas.core.frame.DataFrame'>\n",
      "RangeIndex: 9 entries, 0 to 8\n",
      "Data columns (total 5 columns):\n",
      "Hypothesis    9 non-null object\n",
      "Reach         9 non-null int64\n",
      "Impact        9 non-null int64\n",
      "Confidence    9 non-null int64\n",
      "Effort        9 non-null int64\n",
      "dtypes: int64(4), object(1)\n",
      "memory usage: 488.0+ bytes\n"
     ]
    },
    {
     "data": {
      "text/html": [
       "<div>\n",
       "<style scoped>\n",
       "    .dataframe tbody tr th:only-of-type {\n",
       "        vertical-align: middle;\n",
       "    }\n",
       "\n",
       "    .dataframe tbody tr th {\n",
       "        vertical-align: top;\n",
       "    }\n",
       "\n",
       "    .dataframe thead th {\n",
       "        text-align: right;\n",
       "    }\n",
       "</style>\n",
       "<table border=\"1\" class=\"dataframe\">\n",
       "  <thead>\n",
       "    <tr style=\"text-align: right;\">\n",
       "      <th></th>\n",
       "      <th>Hypothesis</th>\n",
       "      <th>Reach</th>\n",
       "      <th>Impact</th>\n",
       "      <th>Confidence</th>\n",
       "      <th>Effort</th>\n",
       "    </tr>\n",
       "  </thead>\n",
       "  <tbody>\n",
       "    <tr>\n",
       "      <td>0</td>\n",
       "      <td>Add two new channels for attracting traffic. T...</td>\n",
       "      <td>3</td>\n",
       "      <td>10</td>\n",
       "      <td>8</td>\n",
       "      <td>6</td>\n",
       "    </tr>\n",
       "    <tr>\n",
       "      <td>1</td>\n",
       "      <td>Launch your own delivery service. This will sh...</td>\n",
       "      <td>2</td>\n",
       "      <td>5</td>\n",
       "      <td>4</td>\n",
       "      <td>10</td>\n",
       "    </tr>\n",
       "    <tr>\n",
       "      <td>2</td>\n",
       "      <td>Add product recommendation blocks to the store...</td>\n",
       "      <td>8</td>\n",
       "      <td>3</td>\n",
       "      <td>7</td>\n",
       "      <td>3</td>\n",
       "    </tr>\n",
       "    <tr>\n",
       "      <td>3</td>\n",
       "      <td>Change the category structure. This will incre...</td>\n",
       "      <td>8</td>\n",
       "      <td>3</td>\n",
       "      <td>3</td>\n",
       "      <td>8</td>\n",
       "    </tr>\n",
       "    <tr>\n",
       "      <td>4</td>\n",
       "      <td>Change the background color on the main page. ...</td>\n",
       "      <td>3</td>\n",
       "      <td>1</td>\n",
       "      <td>1</td>\n",
       "      <td>1</td>\n",
       "    </tr>\n",
       "    <tr>\n",
       "      <td>5</td>\n",
       "      <td>Add a customer review page. This will increase...</td>\n",
       "      <td>3</td>\n",
       "      <td>2</td>\n",
       "      <td>2</td>\n",
       "      <td>3</td>\n",
       "    </tr>\n",
       "    <tr>\n",
       "      <td>6</td>\n",
       "      <td>Show banners with current offers and sales on ...</td>\n",
       "      <td>5</td>\n",
       "      <td>3</td>\n",
       "      <td>8</td>\n",
       "      <td>3</td>\n",
       "    </tr>\n",
       "    <tr>\n",
       "      <td>7</td>\n",
       "      <td>Add a subscription form to all the main pages....</td>\n",
       "      <td>10</td>\n",
       "      <td>7</td>\n",
       "      <td>8</td>\n",
       "      <td>5</td>\n",
       "    </tr>\n",
       "    <tr>\n",
       "      <td>8</td>\n",
       "      <td>Launch a promotion that gives users discounts ...</td>\n",
       "      <td>1</td>\n",
       "      <td>9</td>\n",
       "      <td>9</td>\n",
       "      <td>5</td>\n",
       "    </tr>\n",
       "  </tbody>\n",
       "</table>\n",
       "</div>"
      ],
      "text/plain": [
       "                                          Hypothesis  Reach  Impact  \\\n",
       "0  Add two new channels for attracting traffic. T...      3      10   \n",
       "1  Launch your own delivery service. This will sh...      2       5   \n",
       "2  Add product recommendation blocks to the store...      8       3   \n",
       "3  Change the category structure. This will incre...      8       3   \n",
       "4  Change the background color on the main page. ...      3       1   \n",
       "5  Add a customer review page. This will increase...      3       2   \n",
       "6  Show banners with current offers and sales on ...      5       3   \n",
       "7  Add a subscription form to all the main pages....     10       7   \n",
       "8  Launch a promotion that gives users discounts ...      1       9   \n",
       "\n",
       "   Confidence  Effort  \n",
       "0           8       6  \n",
       "1           4      10  \n",
       "2           7       3  \n",
       "3           3       8  \n",
       "4           1       1  \n",
       "5           2       3  \n",
       "6           8       3  \n",
       "7           8       5  \n",
       "8           9       5  "
      ]
     },
     "metadata": {},
     "output_type": "display_data"
    }
   ],
   "source": [
    "# Read comma-separated values (csv) file into a pandas DataFrame object using pandas.read_csv() method.\n",
    "# Use try...except to make sure the project runs both on local machine and platform.\n",
    "try:    # paths on local machine.\n",
    "    hyp_df = pd.read_csv('hypotheses_us.csv', sep=';') \n",
    "except:    # paths on Practicum100 platform.\n",
    "    hyp_df = pd.read_csv('/datasets/hypotheses_us.csv', sep=';')   \n",
    "\n",
    "\n",
    "# Assign a name to the Dataframe\n",
    "hyp_df.name = 'hypotheses'\n",
    "\n",
    "# Print a concise summary of a DataFrame with pandas.DataFrame.info() method.\n",
    "printmd(\"{} dataframe info & content\".format(hyp_df.name), color='blue')\n",
    "hyp_df.info()\n",
    "\n",
    "# Display the dataframe\n",
    "display(hyp_df)\n"
   ]
  },
  {
   "cell_type": "markdown",
   "metadata": {},
   "source": [
    "We see that the dataframe does not contain any `Null` values. We have 4 numerical columns storing data of type `int64`. As expected, these are the `Reach`, `Impact`, `Confidence`, and `Effort` columns. We also observe that the evaluations were scored in a 1 to 10 scale. Technically, we can improve memory usage by downcasting to `uint8`, but since we have only 8 hypothesis, we leave the data type of these numerical columns as they are. The fifth `Hypothesis` column contains the descriptions in string `object` format. By convention, we convert the column names to lower case only letters."
   ]
  },
  {
   "cell_type": "code",
   "execution_count": 4,
   "metadata": {},
   "outputs": [
    {
     "name": "stdout",
     "output_type": "stream",
     "text": [
      "Index(['hypothesis', 'reach', 'impact', 'confidence', 'effort'], dtype='object')\n"
     ]
    }
   ],
   "source": [
    "# Change columns to lower case letters.\n",
    "hyp_df.columns = hyp_df.columns.str.lower()\n",
    "print(hyp_df.columns)\n"
   ]
  },
  {
   "cell_type": "markdown",
   "metadata": {},
   "source": [
    "Let us have the descriptions of the hypotheses fully printed."
   ]
  },
  {
   "cell_type": "code",
   "execution_count": 5,
   "metadata": {},
   "outputs": [
    {
     "data": {
      "text/markdown": [
       "<span style='color:blue'>Descriptions of the hypothesis:</span>"
      ],
      "text/plain": [
       "<IPython.core.display.Markdown object>"
      ]
     },
     "metadata": {},
     "output_type": "display_data"
    },
    {
     "name": "stdout",
     "output_type": "stream",
     "text": [
      "Add two new channels for attracting traffic. This will bring 30% more users.\n",
      "\n",
      "Launch your own delivery service. This will shorten delivery time.\n",
      "\n",
      "Add product recommendation blocks to the store's site. This will increase conversion and average purchase size.\n",
      "\n",
      "Change the category structure. This will increase conversion since users will find the products they want more quickly.\n",
      "\n",
      "Change the background color on the main page. This will increase user engagement.\n",
      "\n",
      "Add a customer review page. This will increase the number of orders.\n",
      "\n",
      "Show banners with current offers and sales on the main page. This will boost conversion.\n",
      "\n",
      "Add a subscription form to all the main pages. This will help you compile a mailing list.\n",
      "\n",
      "Launch a promotion that gives users discounts on their birthdays.\n",
      "\n"
     ]
    }
   ],
   "source": [
    "printmd(\"Descriptions of the hypothesis:\", color='blue')\n",
    "\n",
    "for i in range(9):\n",
    "    print(\"{}.\".format(hyp_df['hypothesis'].iloc[i]))\n",
    "    print()\n",
    "    "
   ]
  },
  {
   "cell_type": "markdown",
   "metadata": {},
   "source": [
    "When we had printed earlier the entire dataframe, we could not read the full descriptions of the hypotheses due to display constraints. It is also not very efficient to manipulate a dataframe with space consuming lenghty string objects. For this reason, we propose to number the hypothesis in the order of appearance in the dataframe and store these numbers as integers in the `hypothesis` column. The descriptions can be separately stored in a dictionary as follows."
   ]
  },
  {
   "cell_type": "code",
   "execution_count": 6,
   "metadata": {},
   "outputs": [
    {
     "name": "stdout",
     "output_type": "stream",
     "text": [
      "<class 'pandas.core.frame.DataFrame'>\n",
      "RangeIndex: 9 entries, 0 to 8\n",
      "Data columns (total 5 columns):\n",
      "hypothesis    9 non-null int64\n",
      "reach         9 non-null int64\n",
      "impact        9 non-null int64\n",
      "confidence    9 non-null int64\n",
      "effort        9 non-null int64\n",
      "dtypes: int64(5)\n",
      "memory usage: 488.0 bytes\n"
     ]
    }
   ],
   "source": [
    "# Create an empty dictionary with integer keys from 1 to 9\n",
    "hyp_dict= dict.fromkeys(range(1, 10))\n",
    "\n",
    "# Fill in the dictionary values with the description through a for loop\n",
    "for i in range(9):\n",
    "   hyp_dict[i+1] = hyp_df['hypothesis'].iloc[i]\n",
    "\n",
    "# Change the content of the hypothesis column to numerical values \n",
    "# using the dataframe's indices. The datatype will be automatically inferred.\n",
    "hyp_df['hypothesis'] = hyp_df.index + 1\n",
    "\n",
    "# Print a consice summary of the dataframe\n",
    "hyp_df.info()\n"
   ]
  },
  {
   "cell_type": "markdown",
   "metadata": {},
   "source": [
    "We are now ready for analysis."
   ]
  },
  {
   "cell_type": "markdown",
   "metadata": {},
   "source": [
    "####  Step 1.2 ICE vs RICE  frameworks<a class=\"anchor\" id=\"step1_2\"></a>"
   ]
  },
  {
   "cell_type": "markdown",
   "metadata": {},
   "source": [
    "We begin by prioritizing the hypothesis using the ICE framework. Recall that the ICE score is computed with the following formula:\n",
    "$$\n",
    "\\hbox{ICE_score} = \\frac{\\hbox{impact_score} \\times \\hbox{confidence_score}}{\\hbox{effort_score}}\n",
    "$$"
   ]
  },
  {
   "cell_type": "code",
   "execution_count": 7,
   "metadata": {},
   "outputs": [
    {
     "data": {
      "text/html": [
       "<div>\n",
       "<style scoped>\n",
       "    .dataframe tbody tr th:only-of-type {\n",
       "        vertical-align: middle;\n",
       "    }\n",
       "\n",
       "    .dataframe tbody tr th {\n",
       "        vertical-align: top;\n",
       "    }\n",
       "\n",
       "    .dataframe thead th {\n",
       "        text-align: right;\n",
       "    }\n",
       "</style>\n",
       "<table border=\"1\" class=\"dataframe\">\n",
       "  <thead>\n",
       "    <tr style=\"text-align: right;\">\n",
       "      <th></th>\n",
       "      <th>hypothesis</th>\n",
       "      <th>reach</th>\n",
       "      <th>impact</th>\n",
       "      <th>confidence</th>\n",
       "      <th>effort</th>\n",
       "      <th>ICE</th>\n",
       "    </tr>\n",
       "  </thead>\n",
       "  <tbody>\n",
       "    <tr>\n",
       "      <td>0</td>\n",
       "      <td>9</td>\n",
       "      <td>1</td>\n",
       "      <td>9</td>\n",
       "      <td>9</td>\n",
       "      <td>5</td>\n",
       "      <td>16.200000</td>\n",
       "    </tr>\n",
       "    <tr>\n",
       "      <td>1</td>\n",
       "      <td>1</td>\n",
       "      <td>3</td>\n",
       "      <td>10</td>\n",
       "      <td>8</td>\n",
       "      <td>6</td>\n",
       "      <td>13.333333</td>\n",
       "    </tr>\n",
       "    <tr>\n",
       "      <td>2</td>\n",
       "      <td>8</td>\n",
       "      <td>10</td>\n",
       "      <td>7</td>\n",
       "      <td>8</td>\n",
       "      <td>5</td>\n",
       "      <td>11.200000</td>\n",
       "    </tr>\n",
       "    <tr>\n",
       "      <td>3</td>\n",
       "      <td>7</td>\n",
       "      <td>5</td>\n",
       "      <td>3</td>\n",
       "      <td>8</td>\n",
       "      <td>3</td>\n",
       "      <td>8.000000</td>\n",
       "    </tr>\n",
       "    <tr>\n",
       "      <td>4</td>\n",
       "      <td>3</td>\n",
       "      <td>8</td>\n",
       "      <td>3</td>\n",
       "      <td>7</td>\n",
       "      <td>3</td>\n",
       "      <td>7.000000</td>\n",
       "    </tr>\n",
       "    <tr>\n",
       "      <td>5</td>\n",
       "      <td>2</td>\n",
       "      <td>2</td>\n",
       "      <td>5</td>\n",
       "      <td>4</td>\n",
       "      <td>10</td>\n",
       "      <td>2.000000</td>\n",
       "    </tr>\n",
       "    <tr>\n",
       "      <td>6</td>\n",
       "      <td>6</td>\n",
       "      <td>3</td>\n",
       "      <td>2</td>\n",
       "      <td>2</td>\n",
       "      <td>3</td>\n",
       "      <td>1.333333</td>\n",
       "    </tr>\n",
       "    <tr>\n",
       "      <td>7</td>\n",
       "      <td>4</td>\n",
       "      <td>8</td>\n",
       "      <td>3</td>\n",
       "      <td>3</td>\n",
       "      <td>8</td>\n",
       "      <td>1.125000</td>\n",
       "    </tr>\n",
       "    <tr>\n",
       "      <td>8</td>\n",
       "      <td>5</td>\n",
       "      <td>3</td>\n",
       "      <td>1</td>\n",
       "      <td>1</td>\n",
       "      <td>1</td>\n",
       "      <td>1.000000</td>\n",
       "    </tr>\n",
       "  </tbody>\n",
       "</table>\n",
       "</div>"
      ],
      "text/plain": [
       "   hypothesis  reach  impact  confidence  effort        ICE\n",
       "0           9      1       9           9       5  16.200000\n",
       "1           1      3      10           8       6  13.333333\n",
       "2           8     10       7           8       5  11.200000\n",
       "3           7      5       3           8       3   8.000000\n",
       "4           3      8       3           7       3   7.000000\n",
       "5           2      2       5           4      10   2.000000\n",
       "6           6      3       2           2       3   1.333333\n",
       "7           4      8       3           3       8   1.125000\n",
       "8           5      3       1           1       1   1.000000"
      ]
     },
     "metadata": {},
     "output_type": "display_data"
    }
   ],
   "source": [
    "# Add ICE score as a new column to the hypothesis dataframe\n",
    "hyp_df['ICE'] = hyp_df['impact']*hyp_df['confidence']/hyp_df['effort']\n",
    "\n",
    "# Display the dataframe sorted by the ICE column in descending order.\n",
    "display(hyp_df.sort_values(by='ICE', ascending=False).reset_index(drop=True))\n"
   ]
  },
  {
   "cell_type": "markdown",
   "metadata": {},
   "source": [
    "Here is a summary of our findings for the ICE scores:\n",
    "- The scores vary from 1 to 16.2. \n",
    "- The 9th hypothesis, which got the highest score of 16.2, is the most promising one. It is followed by hypotheses 1, 8, 7, and 3 with the scores 13.3 (approximately), 11.2, 8, 7 in the respective orders.\n",
    "- The less promising hypothesis, with only 1 point, is hypothesis 5. It is followed by hypotheses 4, 6, 2, whose scores vary between 1 and 2. "
   ]
  },
  {
   "cell_type": "markdown",
   "metadata": {},
   "source": [
    "We continue by prioritizing the hypothesis using the RICE framework. It is computed similarly to the ICE score, but with the extra reach factor. The formula is given by:\n",
    "$$\n",
    "\\hbox{RICE_score} = \\frac{\\hbox{reach_score} \\times \\hbox{impact_score} \\times \\hbox{confidence_score}}{\\hbox{effort_score}}\n",
    "$$\n",
    "So, let us see how the scores change when the `reach` column is taken into account."
   ]
  },
  {
   "cell_type": "code",
   "execution_count": 8,
   "metadata": {},
   "outputs": [
    {
     "data": {
      "text/html": [
       "<div>\n",
       "<style scoped>\n",
       "    .dataframe tbody tr th:only-of-type {\n",
       "        vertical-align: middle;\n",
       "    }\n",
       "\n",
       "    .dataframe tbody tr th {\n",
       "        vertical-align: top;\n",
       "    }\n",
       "\n",
       "    .dataframe thead th {\n",
       "        text-align: right;\n",
       "    }\n",
       "</style>\n",
       "<table border=\"1\" class=\"dataframe\">\n",
       "  <thead>\n",
       "    <tr style=\"text-align: right;\">\n",
       "      <th></th>\n",
       "      <th>hypothesis</th>\n",
       "      <th>reach</th>\n",
       "      <th>impact</th>\n",
       "      <th>confidence</th>\n",
       "      <th>effort</th>\n",
       "      <th>ICE</th>\n",
       "      <th>RICE</th>\n",
       "    </tr>\n",
       "  </thead>\n",
       "  <tbody>\n",
       "    <tr>\n",
       "      <td>0</td>\n",
       "      <td>8</td>\n",
       "      <td>10</td>\n",
       "      <td>7</td>\n",
       "      <td>8</td>\n",
       "      <td>5</td>\n",
       "      <td>11.200000</td>\n",
       "      <td>112.0</td>\n",
       "    </tr>\n",
       "    <tr>\n",
       "      <td>1</td>\n",
       "      <td>3</td>\n",
       "      <td>8</td>\n",
       "      <td>3</td>\n",
       "      <td>7</td>\n",
       "      <td>3</td>\n",
       "      <td>7.000000</td>\n",
       "      <td>56.0</td>\n",
       "    </tr>\n",
       "    <tr>\n",
       "      <td>2</td>\n",
       "      <td>1</td>\n",
       "      <td>3</td>\n",
       "      <td>10</td>\n",
       "      <td>8</td>\n",
       "      <td>6</td>\n",
       "      <td>13.333333</td>\n",
       "      <td>40.0</td>\n",
       "    </tr>\n",
       "    <tr>\n",
       "      <td>3</td>\n",
       "      <td>7</td>\n",
       "      <td>5</td>\n",
       "      <td>3</td>\n",
       "      <td>8</td>\n",
       "      <td>3</td>\n",
       "      <td>8.000000</td>\n",
       "      <td>40.0</td>\n",
       "    </tr>\n",
       "    <tr>\n",
       "      <td>4</td>\n",
       "      <td>9</td>\n",
       "      <td>1</td>\n",
       "      <td>9</td>\n",
       "      <td>9</td>\n",
       "      <td>5</td>\n",
       "      <td>16.200000</td>\n",
       "      <td>16.2</td>\n",
       "    </tr>\n",
       "    <tr>\n",
       "      <td>5</td>\n",
       "      <td>4</td>\n",
       "      <td>8</td>\n",
       "      <td>3</td>\n",
       "      <td>3</td>\n",
       "      <td>8</td>\n",
       "      <td>1.125000</td>\n",
       "      <td>9.0</td>\n",
       "    </tr>\n",
       "    <tr>\n",
       "      <td>6</td>\n",
       "      <td>2</td>\n",
       "      <td>2</td>\n",
       "      <td>5</td>\n",
       "      <td>4</td>\n",
       "      <td>10</td>\n",
       "      <td>2.000000</td>\n",
       "      <td>4.0</td>\n",
       "    </tr>\n",
       "    <tr>\n",
       "      <td>7</td>\n",
       "      <td>6</td>\n",
       "      <td>3</td>\n",
       "      <td>2</td>\n",
       "      <td>2</td>\n",
       "      <td>3</td>\n",
       "      <td>1.333333</td>\n",
       "      <td>4.0</td>\n",
       "    </tr>\n",
       "    <tr>\n",
       "      <td>8</td>\n",
       "      <td>5</td>\n",
       "      <td>3</td>\n",
       "      <td>1</td>\n",
       "      <td>1</td>\n",
       "      <td>1</td>\n",
       "      <td>1.000000</td>\n",
       "      <td>3.0</td>\n",
       "    </tr>\n",
       "  </tbody>\n",
       "</table>\n",
       "</div>"
      ],
      "text/plain": [
       "   hypothesis  reach  impact  confidence  effort        ICE   RICE\n",
       "0           8     10       7           8       5  11.200000  112.0\n",
       "1           3      8       3           7       3   7.000000   56.0\n",
       "2           1      3      10           8       6  13.333333   40.0\n",
       "3           7      5       3           8       3   8.000000   40.0\n",
       "4           9      1       9           9       5  16.200000   16.2\n",
       "5           4      8       3           3       8   1.125000    9.0\n",
       "6           2      2       5           4      10   2.000000    4.0\n",
       "7           6      3       2           2       3   1.333333    4.0\n",
       "8           5      3       1           1       1   1.000000    3.0"
      ]
     },
     "metadata": {},
     "output_type": "display_data"
    }
   ],
   "source": [
    "# Add ICE score as a new column to the hypothesis dataframe\n",
    "hyp_df['RICE'] = hyp_df['reach']*hyp_df['impact']*hyp_df['confidence']/hyp_df['effort']\n",
    "\n",
    "# Display the dataframe sorted by the RICE column in descending order.\n",
    "display(hyp_df.sort_values(by='RICE', ascending=False).reset_index(drop=True))\n"
   ]
  },
  {
   "cell_type": "markdown",
   "metadata": {},
   "source": [
    "Here are our findings for the RICE scores:\n",
    "- The scores vary from 3 to 112. \n",
    "- The highest score of 112 corresponds to hypothesis 8. It is followed by hypotheses 3 with 56 points, and hypotheses 1 and 7 with both 40 points. The fifth rank goes to hypothesis 9 with score 16.2. \n",
    "- The lowest score of 3 corresponds to hypothesis 5. It is followed by hypotheses 2 and 6, which received both 4 point. The remaining hypothesis 4, got only a slightly better score of 9. "
   ]
  },
  {
   "cell_type": "markdown",
   "metadata": {},
   "source": [
    "To help use with the analysis, let us visualize the ICE and RICE scores for the hypotheses."
   ]
  },
  {
   "cell_type": "code",
   "execution_count": 9,
   "metadata": {},
   "outputs": [
    {
     "data": {
      "image/png": "[encoded data removed]",
      "text/plain": [
       "<Figure size 720x432 with 1 Axes>"
      ]
     },
     "metadata": {
      "needs_background": "light"
     },
     "output_type": "display_data"
    }
   ],
   "source": [
    "plt.figure(figsize=(10, 6))\n",
    "plt.scatter(hyp_df['hypothesis'], hyp_df['ICE'], s=75, label='ICE score')\n",
    "plt.scatter(hyp_df['hypothesis'], hyp_df['RICE'], alpha= 0.6, s=75, label='RICE score')\n",
    "plt.title('ICE versus RICE scores for the A/B test hypotheses', fontsize=18)\n",
    "plt.xlabel('Hypothesis id', fontsize=16)\n",
    "plt.ylabel('Score', fontsize=16)\n",
    "plt.xticks(fontsize=16)\n",
    "plt.yticks(fontsize=16)\n",
    "plt.grid()\n",
    "plt.legend(fontsize=16)\n",
    "plt.show()\n"
   ]
  },
  {
   "cell_type": "markdown",
   "metadata": {},
   "source": [
    "When we compare the scores obtained from both frameworks, we see that the list of the most promising five hypothesis still consists of hypothesis 9, 1, 8, 7, and 3. However, the ranks of these hypothesis changed considerably from one framework to the other. Let us now describe what happened when we took the reach score into account when computing the final score for the hypothesis:\n",
    "- When the reach factor came into play, the 8th hypothesis became the most promising one instead of the 9th one. This is not surprising since these hypotheses ICE scores differ by only 5 points, the hypothesis 9 received the lowest reach score of 1 while the hypothesis 8 received the highest reach score of 10. As a multiplicative factor, this created a large discrepency between the RICE scores of these two hypotheses.   \n",
    "- Hypothesis 3 got the second highest RICE framework taking the rank of the 1st one in the ICE framework. Their scores differed by 2 points in the latter framework. This difference grew slightly in the RICE framework because hypothesis 3 has a reach score of 8 points and hypothesis 1 a reach score of 3.\n",
    "- Nevertheless, hypothesis 1 took 3rd place (moving one down from 2nd) in the RICE framework. The 3rd place is shared with hypothesis 7 that came 4th in the ICE framework. Hypothesis 9 appeared only at the 5th place (rather than being the most promising one). Only the result for hypothesis 7 did not change in both frameworks, remaining at the 4th place. We also note that the rank of the least promising four hypothesis also changed, except for the lowest scored hypothesis 5. Again all thanks to the fact that the better reach factor of hypothesis 7 compared to hypothesis 1. \n",
    "- Among the remaining hypothesis, only the total score of hypothesis 4 quite improved as it has a quite high reach score given by 8 points. Nonetheless, this wasn't enough to bring the hypothesis in the top 5 list, as the hypothesis requires a lot of effort to be tested (with an effort score of 8), which causes its ICE score to be very low to start with. "
   ]
  },
  {
   "cell_type": "markdown",
   "metadata": {},
   "source": [
    "**Concluding remarks** In this first part of the project, we worked with a very small dataset containing scores about various factors that could potentially help us rank 9 hypotheses according to their level of importance. \n",
    "In practice, testing a hypothesis costs a lot of money and we only have limited resources. By prioritizing the hypotheses before launching A/B tests, we want to ensure that we focus in our tests on achieving maximum growth of the key business metrics.\n",
    "\n",
    "To identify the most promising hypothesis, we computed the ICE and RICE scores of each hypothesis, ranked them from highest to lowest, and also compared the resulting scores from both frameworks. As the scores of these two frameworks only differ by a multiplicative factor assessing the reach of each hypothesis, the scores of the hypotheses with higher reach factors were boosted considerably more. As a result, even though the top 5 ranked hypotheses did not change in both frameworks, the ranks and relative scores of the top 5 hypothesis did change considerably."
   ]
  },
  {
   "cell_type": "markdown",
   "metadata": {},
   "source": [
    "<a class=\"anchor\" id=\"step2\"></a> \n",
    "### Step 2. A/B Test Analysis"
   ]
  },
  {
   "cell_type": "markdown",
   "metadata": {},
   "source": [
    "In this second part of the project, we analyze the results of an A/B test that was carried out."
   ]
  },
  {
   "cell_type": "markdown",
   "metadata": {},
   "source": [
    "The test results are located on the following dataset paths:\n",
    "- `/datasets/orders_us.csv`\n",
    "- `/datasets/visits_us.csv`"
   ]
  },
  {
   "cell_type": "markdown",
   "metadata": {},
   "source": [
    "The datasets contain the following columns:\n",
    "- `orders_us`:\n",
    "    - `transactionId`: order identifier\n",
    "    - `visitorId`: identifier of the user who placed the order\n",
    "    - `date`: of the order\n",
    "    - `revenue`: from the order\n",
    "    - `group`: the A/B test group that the user belongs to\n",
    "    \n",
    "- `visits_us`:\n",
    "    - `date`: date\n",
    "    - `group`: A/B test group\n",
    "    - `visits`: the number of visits on the date specified in the A/B test group specified"
   ]
  },
  {
   "cell_type": "markdown",
   "metadata": {},
   "source": [
    "We first need to preprocess the data carefully. There might be mistakes in the original datasets; for example, some of the visitors might have gotten into both group A and group B."
   ]
  },
  {
   "cell_type": "markdown",
   "metadata": {},
   "source": [
    "#### Step 2.1 Data Preprocessing <a class=\"anchor\" id=\"step2_1\"></a> "
   ]
  },
  {
   "cell_type": "markdown",
   "metadata": {},
   "source": [
    "As usual we read and print an oveview of our datasets."
   ]
  },
  {
   "cell_type": "code",
   "execution_count": 10,
   "metadata": {},
   "outputs": [
    {
     "data": {
      "text/markdown": [
       "<span style='color:blue'>orders</span>"
      ],
      "text/plain": [
       "<IPython.core.display.Markdown object>"
      ]
     },
     "metadata": {},
     "output_type": "display_data"
    },
    {
     "name": "stdout",
     "output_type": "stream",
     "text": [
      "<class 'pandas.core.frame.DataFrame'>\n",
      "RangeIndex: 1197 entries, 0 to 1196\n",
      "Data columns (total 5 columns):\n",
      "transactionId    1197 non-null int64\n",
      "visitorId        1197 non-null int64\n",
      "date             1197 non-null object\n",
      "revenue          1197 non-null float64\n",
      "group            1197 non-null object\n",
      "dtypes: float64(1), int64(2), object(2)\n",
      "memory usage: 46.9+ KB\n"
     ]
    },
    {
     "data": {
      "text/plain": [
       "None"
      ]
     },
     "metadata": {},
     "output_type": "display_data"
    },
    {
     "data": {
      "text/html": [
       "<div>\n",
       "<style scoped>\n",
       "    .dataframe tbody tr th:only-of-type {\n",
       "        vertical-align: middle;\n",
       "    }\n",
       "\n",
       "    .dataframe tbody tr th {\n",
       "        vertical-align: top;\n",
       "    }\n",
       "\n",
       "    .dataframe thead th {\n",
       "        text-align: right;\n",
       "    }\n",
       "</style>\n",
       "<table border=\"1\" class=\"dataframe\">\n",
       "  <thead>\n",
       "    <tr style=\"text-align: right;\">\n",
       "      <th></th>\n",
       "      <th>transactionId</th>\n",
       "      <th>visitorId</th>\n",
       "      <th>date</th>\n",
       "      <th>revenue</th>\n",
       "      <th>group</th>\n",
       "    </tr>\n",
       "  </thead>\n",
       "  <tbody>\n",
       "    <tr>\n",
       "      <td>0</td>\n",
       "      <td>3667963787</td>\n",
       "      <td>3312258926</td>\n",
       "      <td>2019-08-15</td>\n",
       "      <td>30.4</td>\n",
       "      <td>B</td>\n",
       "    </tr>\n",
       "    <tr>\n",
       "      <td>1</td>\n",
       "      <td>2804400009</td>\n",
       "      <td>3642806036</td>\n",
       "      <td>2019-08-15</td>\n",
       "      <td>15.2</td>\n",
       "      <td>B</td>\n",
       "    </tr>\n",
       "    <tr>\n",
       "      <td>2</td>\n",
       "      <td>2961555356</td>\n",
       "      <td>4069496402</td>\n",
       "      <td>2019-08-15</td>\n",
       "      <td>10.2</td>\n",
       "      <td>A</td>\n",
       "    </tr>\n",
       "    <tr>\n",
       "      <td>3</td>\n",
       "      <td>3797467345</td>\n",
       "      <td>1196621759</td>\n",
       "      <td>2019-08-15</td>\n",
       "      <td>155.1</td>\n",
       "      <td>B</td>\n",
       "    </tr>\n",
       "    <tr>\n",
       "      <td>4</td>\n",
       "      <td>2282983706</td>\n",
       "      <td>2322279887</td>\n",
       "      <td>2019-08-15</td>\n",
       "      <td>40.5</td>\n",
       "      <td>B</td>\n",
       "    </tr>\n",
       "  </tbody>\n",
       "</table>\n",
       "</div>"
      ],
      "text/plain": [
       "   transactionId   visitorId        date  revenue group\n",
       "0     3667963787  3312258926  2019-08-15     30.4     B\n",
       "1     2804400009  3642806036  2019-08-15     15.2     B\n",
       "2     2961555356  4069496402  2019-08-15     10.2     A\n",
       "3     3797467345  1196621759  2019-08-15    155.1     B\n",
       "4     2282983706  2322279887  2019-08-15     40.5     B"
      ]
     },
     "metadata": {},
     "output_type": "display_data"
    },
    {
     "name": "stdout",
     "output_type": "stream",
     "text": [
      "\n"
     ]
    },
    {
     "data": {
      "text/markdown": [
       "<span style='color:blue'>visits</span>"
      ],
      "text/plain": [
       "<IPython.core.display.Markdown object>"
      ]
     },
     "metadata": {},
     "output_type": "display_data"
    },
    {
     "name": "stdout",
     "output_type": "stream",
     "text": [
      "<class 'pandas.core.frame.DataFrame'>\n",
      "RangeIndex: 62 entries, 0 to 61\n",
      "Data columns (total 3 columns):\n",
      "date      62 non-null object\n",
      "group     62 non-null object\n",
      "visits    62 non-null int64\n",
      "dtypes: int64(1), object(2)\n",
      "memory usage: 1.6+ KB\n"
     ]
    },
    {
     "data": {
      "text/plain": [
       "None"
      ]
     },
     "metadata": {},
     "output_type": "display_data"
    },
    {
     "data": {
      "text/html": [
       "<div>\n",
       "<style scoped>\n",
       "    .dataframe tbody tr th:only-of-type {\n",
       "        vertical-align: middle;\n",
       "    }\n",
       "\n",
       "    .dataframe tbody tr th {\n",
       "        vertical-align: top;\n",
       "    }\n",
       "\n",
       "    .dataframe thead th {\n",
       "        text-align: right;\n",
       "    }\n",
       "</style>\n",
       "<table border=\"1\" class=\"dataframe\">\n",
       "  <thead>\n",
       "    <tr style=\"text-align: right;\">\n",
       "      <th></th>\n",
       "      <th>date</th>\n",
       "      <th>group</th>\n",
       "      <th>visits</th>\n",
       "    </tr>\n",
       "  </thead>\n",
       "  <tbody>\n",
       "    <tr>\n",
       "      <td>0</td>\n",
       "      <td>2019-08-01</td>\n",
       "      <td>A</td>\n",
       "      <td>719</td>\n",
       "    </tr>\n",
       "    <tr>\n",
       "      <td>1</td>\n",
       "      <td>2019-08-02</td>\n",
       "      <td>A</td>\n",
       "      <td>619</td>\n",
       "    </tr>\n",
       "    <tr>\n",
       "      <td>2</td>\n",
       "      <td>2019-08-03</td>\n",
       "      <td>A</td>\n",
       "      <td>507</td>\n",
       "    </tr>\n",
       "    <tr>\n",
       "      <td>3</td>\n",
       "      <td>2019-08-04</td>\n",
       "      <td>A</td>\n",
       "      <td>717</td>\n",
       "    </tr>\n",
       "    <tr>\n",
       "      <td>4</td>\n",
       "      <td>2019-08-05</td>\n",
       "      <td>A</td>\n",
       "      <td>756</td>\n",
       "    </tr>\n",
       "  </tbody>\n",
       "</table>\n",
       "</div>"
      ],
      "text/plain": [
       "         date group  visits\n",
       "0  2019-08-01     A     719\n",
       "1  2019-08-02     A     619\n",
       "2  2019-08-03     A     507\n",
       "3  2019-08-04     A     717\n",
       "4  2019-08-05     A     756"
      ]
     },
     "metadata": {},
     "output_type": "display_data"
    },
    {
     "name": "stdout",
     "output_type": "stream",
     "text": [
      "\n"
     ]
    }
   ],
   "source": [
    "# Read comma-separated values (csv) file into a pandas DataFrame object using pandas.read_csv() method.\n",
    "# Use try...except to make sure the project runs both on local machine and platform.\n",
    "try:    # paths on local machine.\n",
    "    orders = pd.read_csv('orders_us.csv') \n",
    "    visits = pd.read_csv('visits_us.csv') \n",
    "except:    # paths on Practicum100 platform.\n",
    "    orders = pd.read_csv('/datasets/orders_us.csv') \n",
    "    visits = pd.read_csv('/datasets/visits_us.csv') \n",
    "\n",
    "# Create a tuple from the dataframes.\n",
    "data = (orders, visits) \n",
    "\n",
    "# Assign names to the dataframes\n",
    "orders.name = 'orders'\n",
    "visits.name = 'visits'\n",
    "\n",
    "# Print a concise summary of the dataFrames with pandas.DataFrame.info() method.\n",
    "for df in data:\n",
    "    printmd(\"{}\".format(df.name), color='blue')\n",
    "    display(df.info())\n",
    "    display(df.head())\n",
    "    print()\n",
    "    "
   ]
  },
  {
   "cell_type": "markdown",
   "metadata": {},
   "source": [
    "From the printed information, we see that there are no null values in the dataframes. However, it is clear that we need to convert the `date` columns in both dataframes to datetime columns (from strings). In addition, if the `group` columns in both dataframes contain only two categories as we expect, we could convert them into category data type. Let us check the unique values of these columns."
   ]
  },
  {
   "cell_type": "code",
   "execution_count": 11,
   "metadata": {},
   "outputs": [
    {
     "data": {
      "text/markdown": [
       "<span style='color:blue'>orders dataframe unique values group values</span>"
      ],
      "text/plain": [
       "<IPython.core.display.Markdown object>"
      ]
     },
     "metadata": {},
     "output_type": "display_data"
    },
    {
     "data": {
      "text/plain": [
       "array(['B', 'A'], dtype=object)"
      ]
     },
     "metadata": {},
     "output_type": "display_data"
    },
    {
     "data": {
      "text/markdown": [
       "<span style='color:blue'>visits dataframe unique values group values</span>"
      ],
      "text/plain": [
       "<IPython.core.display.Markdown object>"
      ]
     },
     "metadata": {},
     "output_type": "display_data"
    },
    {
     "data": {
      "text/plain": [
       "array(['A', 'B'], dtype=object)"
      ]
     },
     "metadata": {},
     "output_type": "display_data"
    }
   ],
   "source": [
    "for df in data:\n",
    "    printmd(\"{} dataframe unique values group values\".format(df.name), color='blue')\n",
    "    display(df['group'].unique())\n",
    "    "
   ]
  },
  {
   "cell_type": "markdown",
   "metadata": {},
   "source": [
    "Indeed, we only have group A and group B. So, let us optimize data types."
   ]
  },
  {
   "cell_type": "code",
   "execution_count": 12,
   "metadata": {},
   "outputs": [
    {
     "data": {
      "text/markdown": [
       "<span style='color:blue'>orders</span>"
      ],
      "text/plain": [
       "<IPython.core.display.Markdown object>"
      ]
     },
     "metadata": {},
     "output_type": "display_data"
    },
    {
     "name": "stdout",
     "output_type": "stream",
     "text": [
      "<class 'pandas.core.frame.DataFrame'>\n",
      "RangeIndex: 1197 entries, 0 to 1196\n",
      "Data columns (total 5 columns):\n",
      "transactionId    1197 non-null int64\n",
      "visitorId        1197 non-null int64\n",
      "date             1197 non-null datetime64[ns]\n",
      "revenue          1197 non-null float64\n",
      "group            1197 non-null category\n",
      "dtypes: category(1), datetime64[ns](1), float64(1), int64(2)\n",
      "memory usage: 38.8 KB\n"
     ]
    },
    {
     "data": {
      "text/markdown": [
       "<span style='color:blue'>visits</span>"
      ],
      "text/plain": [
       "<IPython.core.display.Markdown object>"
      ]
     },
     "metadata": {},
     "output_type": "display_data"
    },
    {
     "name": "stdout",
     "output_type": "stream",
     "text": [
      "<class 'pandas.core.frame.DataFrame'>\n",
      "RangeIndex: 62 entries, 0 to 61\n",
      "Data columns (total 3 columns):\n",
      "date      62 non-null datetime64[ns]\n",
      "group     62 non-null category\n",
      "visits    62 non-null int64\n",
      "dtypes: category(1), datetime64[ns](1), int64(1)\n",
      "memory usage: 1.2 KB\n"
     ]
    }
   ],
   "source": [
    "# Cast the data types of the 'group' columns in both dataframes to category \n",
    "# Cast the data types of the 'date' columns in both dataframes to datetime\n",
    "for df in data:\n",
    "    df['group'] = df['group'].astype('category')\n",
    "    df['date'] = df['date'].map(lambda x: dt.datetime.strptime(x, '%Y-%m-%d')) \n",
    "    \n",
    "    # Print dataframes' info\n",
    "    printmd(\"{}\".format(df.name), color='blue')\n",
    "    df.info()\n",
    "    "
   ]
  },
  {
   "cell_type": "markdown",
   "metadata": {},
   "source": [
    "Let us next check the content of the columns and if they are consistent accross the two dataframes. "
   ]
  },
  {
   "cell_type": "code",
   "execution_count": 13,
   "metadata": {},
   "outputs": [
    {
     "name": "stdout",
     "output_type": "stream",
     "text": [
      "Number of unique transaction ids in 'orders' dataframe: 1197\n",
      "Number of unique visitor ids in 'orders' dataframe: 1031\n"
     ]
    }
   ],
   "source": [
    "print(\"Number of unique transaction ids in 'orders' dataframe:\", \n",
    "      len(orders['transactionId'].unique()))\n",
    "\n",
    "print(\"Number of unique visitor ids in 'orders' dataframe:\", \n",
    "      len(orders['visitorId'].unique()))\n"
   ]
  },
  {
   "cell_type": "markdown",
   "metadata": {},
   "source": [
    "As expected, all rows of the `orders` dataframe correspond to orders with unique transaction ids. The number of unique visitors who placed an order is on the other hand slightly smaller, indicating that only a small number of visitors placed more than one order. \n",
    "\n",
    "We now check the date range in both datasets."
   ]
  },
  {
   "cell_type": "code",
   "execution_count": 14,
   "metadata": {},
   "outputs": [
    {
     "data": {
      "text/markdown": [
       "<span style='color:blue'>orders dataframe summary statistics for the date column</span>"
      ],
      "text/plain": [
       "<IPython.core.display.Markdown object>"
      ]
     },
     "metadata": {},
     "output_type": "display_data"
    },
    {
     "data": {
      "text/plain": [
       "count                    1197\n",
       "unique                     31\n",
       "top       2019-08-05 00:00:00\n",
       "freq                       48\n",
       "first     2019-08-01 00:00:00\n",
       "last      2019-08-31 00:00:00\n",
       "Name: date, dtype: object"
      ]
     },
     "metadata": {},
     "output_type": "display_data"
    },
    {
     "data": {
      "text/markdown": [
       "<span style='color:blue'>visits dataframe summary statistics for the date column</span>"
      ],
      "text/plain": [
       "<IPython.core.display.Markdown object>"
      ]
     },
     "metadata": {},
     "output_type": "display_data"
    },
    {
     "data": {
      "text/plain": [
       "count                      62\n",
       "unique                     31\n",
       "top       2019-08-02 00:00:00\n",
       "freq                        2\n",
       "first     2019-08-01 00:00:00\n",
       "last      2019-08-31 00:00:00\n",
       "Name: date, dtype: object"
      ]
     },
     "metadata": {},
     "output_type": "display_data"
    }
   ],
   "source": [
    "# Display summary statistics of the 'date' columns via pandas.DataFrame.describe() method\n",
    "for df in data:\n",
    "    printmd(\"{} dataframe summary statistics for the date column\".format(df.name), color='blue')\n",
    "    display(df['date'].describe())\n",
    "    "
   ]
  },
  {
   "cell_type": "markdown",
   "metadata": {},
   "source": [
    "Okay, both dataframes contain data for each day of August 2019."
   ]
  },
  {
   "cell_type": "markdown",
   "metadata": {},
   "source": [
    "Now, we move to the revenue column to see if there are any suspicious entries. For that purpose, let us compute summary statistics and plot a histogram. "
   ]
  },
  {
   "cell_type": "code",
   "execution_count": 15,
   "metadata": {},
   "outputs": [
    {
     "data": {
      "text/plain": [
       "count     1197.000000\n",
       "mean       131.491646\n",
       "std        603.004729\n",
       "min          5.000000\n",
       "25%         20.800000\n",
       "50%         50.200000\n",
       "75%        130.400000\n",
       "max      19920.400000\n",
       "Name: revenue, dtype: float64"
      ]
     },
     "metadata": {},
     "output_type": "display_data"
    },
    {
     "data": {
      "image/png": "[encoded data removed]",
      "text/plain": [
       "<Figure size 1440x576 with 1 Axes>"
      ]
     },
     "metadata": {
      "needs_background": "light"
     },
     "output_type": "display_data"
    }
   ],
   "source": [
    "# Display summary statistics of the revenue column \n",
    "display(orders['revenue'].describe())\n",
    "\n",
    "# Create a histogram of the revenue column\n",
    "plt.figure(figsize=(20, 8))\n",
    "orders['revenue'].hist(bins=100)\n",
    "plt.title('Histogram of the revenue from orders from August 2019', fontsize=18)\n",
    "plt.xlabel('Revenue (US dollars)', fontsize=16)\n",
    "plt.xticks(fontsize=16)\n",
    "plt.ylabel('Frequency', fontsize=16)\n",
    "plt.yticks(fontsize=16)\n",
    "\n",
    "plt.show()\n",
    "\n",
    "# orders.loc[orders['revenue'] == orders['revenue'].max()]\n",
    "# orders.loc[~(orders['revenue'] == orders['revenue'].max()), 'revenue'].describe()\n"
   ]
  },
  {
   "cell_type": "markdown",
   "metadata": {},
   "source": [
    "From the histogram, we clearly see that the revenue from few orders were exceptionally large (around 3000 and 20000 US dollars). These orders caused the average revenue per order to be larger than the median revenue: While the mean is around 131.5 US dollar, the median is around 50 US dollars. Although these orders with exceptionally large revenues likely correspond to statistical outliers in our data, we do not expect them to be erroneous entries. We are not sure about the source of these orders, yet it is possible for instance that busimess customers placed orders with a large number of items."
   ]
  },
  {
   "cell_type": "markdown",
   "metadata": {},
   "source": [
    "Next in line, we want to check if visitors were consistently separated into the two groups, i.e., were some of them assigned to both groups by mistake? If so, we should discard them while analysing the test results."
   ]
  },
  {
   "cell_type": "code",
   "execution_count": 16,
   "metadata": {},
   "outputs": [
    {
     "name": "stdout",
     "output_type": "stream",
     "text": [
      "Number of visitors that were assigned to both groups A and B are: 58\n",
      "Number of orders belonging to visitors that were assigned to both groups A and B are: 181\n",
      "<class 'pandas.core.frame.DataFrame'>\n",
      "Int64Index: 1016 entries, 0 to 1196\n",
      "Data columns (total 5 columns):\n",
      "transactionId    1016 non-null int64\n",
      "visitorId        1016 non-null int64\n",
      "date             1016 non-null datetime64[ns]\n",
      "revenue          1016 non-null float64\n",
      "group            1016 non-null category\n",
      "dtypes: category(1), datetime64[ns](1), float64(1), int64(2)\n",
      "memory usage: 40.8 KB\n",
      "Number of visitors (only) in group A is: 468\n",
      "Number of visitors (only) in group B is: 548\n"
     ]
    }
   ],
   "source": [
    "# Count the number of groups each visitor appears in the orders dataframe\n",
    "group_counts = orders.groupby('visitorId')['group'].nunique().reset_index()\n",
    "\n",
    "# Filter visitors assigned to more than one group and print the number of such visitors\n",
    "AB_visitors = group_counts.loc[group_counts['group'] > 1]\n",
    "print('Number of visitors that were assigned to both groups A and B are:', len(AB_visitors))\n",
    "# display(AB_visitors)\n",
    "\n",
    "# Create a Bolean filtering condition to identify the visitors assigned to both groups\n",
    "# and print the number of orders belonging to these visitors\n",
    "AB_group_cond = orders['visitorId'].isin(AB_visitors['visitorId'])\n",
    "print('Number of orders belonging to visitors that were assigned to both groups A and B are:',\n",
    "      AB_group_cond.sum())\n",
    "# display(orders.loc[AB_group_cond])\n",
    "\n",
    "# Create an independent copy of the order dataframe rows removing the visitors assigned to both groups\n",
    "# and print the info of the new dataframe\n",
    "orders_cleaned = orders.loc[~AB_group_cond].copy()\n",
    "orders_cleaned.info()\n",
    "\n",
    "# Print the number of visitors in each group in the new dataframe\n",
    "print('Number of visitors (only) in group A is:',\n",
    "     len(orders_cleaned.loc[orders_cleaned['group']=='A']))\n",
    "print('Number of visitors (only) in group B is:',\n",
    "     len(orders_cleaned.loc[orders_cleaned['group']=='B']))\n"
   ]
  },
  {
   "cell_type": "markdown",
   "metadata": {},
   "source": [
    "We found that there were 58 visitors that were assigned to both group A and group B. After discarding the orders from these visitors, we are left with a dataframe containing information about 1016 orders. We also found that 468 of the remaining visitor were assigned to group A and 548 of them to group B. So, each group had approximately 500 visitors. "
   ]
  },
  {
   "cell_type": "markdown",
   "metadata": {},
   "source": [
    "Recall that the <code>visits</code> column of the <code>visits</code> dataframe show the number of visits from visitors of both groups. But the counted visitors include those that were assigned to both groups. Since we removed them from the <code>orders</code> dataframe, we also need to substract their counts from the <code>visits</code> dataframe. To do so, we first count for each day of August 2019, the number of orders that were placed by visitors in group A and group B. Then, we substract these counts from the <code>visits</code> dataframe.\n",
    "\n",
    "Let us make a side note here. We notice that there might be a problem in the name of the <code>visits</code> column of the <code>visits</code> dataframe. It is actually not clear from the column's description whether multiple visits from the same visitor have been counted as one visit or not. Since we do not have raw data on the visits, but only aggregated data, we cannot verify this. So, in theory if a visitor that was assigned to both groups visited the site on a given date 100 times, we should remove 100 from the visit counts and not just 1. In practice, we assume that this is a highly unlikely event and even if not exact the counts are approximately accurate (given we only have 58 visitors assigned to both groups in slightly more than 1000 visitors)."
   ]
  },
  {
   "cell_type": "code",
   "execution_count": 17,
   "metadata": {},
   "outputs": [
    {
     "data": {
      "text/markdown": [
       "<span style='color:blue'>Head of dataframe showing the number of orders for each date and group</span>"
      ],
      "text/plain": [
       "<IPython.core.display.Markdown object>"
      ]
     },
     "metadata": {},
     "output_type": "display_data"
    },
    {
     "data": {
      "text/html": [
       "<div>\n",
       "<style scoped>\n",
       "    .dataframe tbody tr th:only-of-type {\n",
       "        vertical-align: middle;\n",
       "    }\n",
       "\n",
       "    .dataframe tbody tr th {\n",
       "        vertical-align: top;\n",
       "    }\n",
       "\n",
       "    .dataframe thead th {\n",
       "        text-align: right;\n",
       "    }\n",
       "</style>\n",
       "<table border=\"1\" class=\"dataframe\">\n",
       "  <thead>\n",
       "    <tr style=\"text-align: right;\">\n",
       "      <th></th>\n",
       "      <th>date</th>\n",
       "      <th>group</th>\n",
       "      <th>transactionId</th>\n",
       "    </tr>\n",
       "  </thead>\n",
       "  <tbody>\n",
       "    <tr>\n",
       "      <td>0</td>\n",
       "      <td>2019-08-01</td>\n",
       "      <td>A</td>\n",
       "      <td>1</td>\n",
       "    </tr>\n",
       "    <tr>\n",
       "      <td>1</td>\n",
       "      <td>2019-08-01</td>\n",
       "      <td>B</td>\n",
       "      <td>4</td>\n",
       "    </tr>\n",
       "    <tr>\n",
       "      <td>2</td>\n",
       "      <td>2019-08-02</td>\n",
       "      <td>A</td>\n",
       "      <td>1</td>\n",
       "    </tr>\n",
       "    <tr>\n",
       "      <td>3</td>\n",
       "      <td>2019-08-02</td>\n",
       "      <td>B</td>\n",
       "      <td>1</td>\n",
       "    </tr>\n",
       "    <tr>\n",
       "      <td>4</td>\n",
       "      <td>2019-08-03</td>\n",
       "      <td>B</td>\n",
       "      <td>2</td>\n",
       "    </tr>\n",
       "  </tbody>\n",
       "</table>\n",
       "</div>"
      ],
      "text/plain": [
       "        date group  transactionId\n",
       "0 2019-08-01     A              1\n",
       "1 2019-08-01     B              4\n",
       "2 2019-08-02     A              1\n",
       "3 2019-08-02     B              1\n",
       "4 2019-08-03     B              2"
      ]
     },
     "metadata": {},
     "output_type": "display_data"
    },
    {
     "data": {
      "text/markdown": [
       "<span style='color:blue'>Head of dataframe showing the number of visits for each date and group</span>"
      ],
      "text/plain": [
       "<IPython.core.display.Markdown object>"
      ]
     },
     "metadata": {},
     "output_type": "display_data"
    },
    {
     "data": {
      "text/html": [
       "<div>\n",
       "<style scoped>\n",
       "    .dataframe tbody tr th:only-of-type {\n",
       "        vertical-align: middle;\n",
       "    }\n",
       "\n",
       "    .dataframe tbody tr th {\n",
       "        vertical-align: top;\n",
       "    }\n",
       "\n",
       "    .dataframe thead th {\n",
       "        text-align: right;\n",
       "    }\n",
       "</style>\n",
       "<table border=\"1\" class=\"dataframe\">\n",
       "  <thead>\n",
       "    <tr style=\"text-align: right;\">\n",
       "      <th></th>\n",
       "      <th>index</th>\n",
       "      <th>date</th>\n",
       "      <th>group</th>\n",
       "      <th>visits</th>\n",
       "    </tr>\n",
       "  </thead>\n",
       "  <tbody>\n",
       "    <tr>\n",
       "      <td>0</td>\n",
       "      <td>0</td>\n",
       "      <td>2019-08-01</td>\n",
       "      <td>A</td>\n",
       "      <td>719</td>\n",
       "    </tr>\n",
       "    <tr>\n",
       "      <td>1</td>\n",
       "      <td>31</td>\n",
       "      <td>2019-08-01</td>\n",
       "      <td>B</td>\n",
       "      <td>713</td>\n",
       "    </tr>\n",
       "    <tr>\n",
       "      <td>2</td>\n",
       "      <td>1</td>\n",
       "      <td>2019-08-02</td>\n",
       "      <td>A</td>\n",
       "      <td>619</td>\n",
       "    </tr>\n",
       "    <tr>\n",
       "      <td>3</td>\n",
       "      <td>32</td>\n",
       "      <td>2019-08-02</td>\n",
       "      <td>B</td>\n",
       "      <td>581</td>\n",
       "    </tr>\n",
       "    <tr>\n",
       "      <td>4</td>\n",
       "      <td>2</td>\n",
       "      <td>2019-08-03</td>\n",
       "      <td>A</td>\n",
       "      <td>507</td>\n",
       "    </tr>\n",
       "  </tbody>\n",
       "</table>\n",
       "</div>"
      ],
      "text/plain": [
       "   index       date group  visits\n",
       "0      0 2019-08-01     A     719\n",
       "1     31 2019-08-01     B     713\n",
       "2      1 2019-08-02     A     619\n",
       "3     32 2019-08-02     B     581\n",
       "4      2 2019-08-03     A     507"
      ]
     },
     "metadata": {},
     "output_type": "display_data"
    },
    {
     "name": "stdout",
     "output_type": "stream",
     "text": [
      "The processed visits dataframe contains 62 rows.\n",
      "The grouped dataframe from the preprocesse orders dataframe contains 56 rows.\n"
     ]
    },
    {
     "data": {
      "text/markdown": [
       "<span style='color:blue'>Head of resulting cleaned visits dataframe after substraction</span>"
      ],
      "text/plain": [
       "<IPython.core.display.Markdown object>"
      ]
     },
     "metadata": {},
     "output_type": "display_data"
    },
    {
     "data": {
      "text/html": [
       "<div>\n",
       "<style scoped>\n",
       "    .dataframe tbody tr th:only-of-type {\n",
       "        vertical-align: middle;\n",
       "    }\n",
       "\n",
       "    .dataframe tbody tr th {\n",
       "        vertical-align: top;\n",
       "    }\n",
       "\n",
       "    .dataframe thead th {\n",
       "        text-align: right;\n",
       "    }\n",
       "</style>\n",
       "<table border=\"1\" class=\"dataframe\">\n",
       "  <thead>\n",
       "    <tr style=\"text-align: right;\">\n",
       "      <th></th>\n",
       "      <th>index</th>\n",
       "      <th>date</th>\n",
       "      <th>group</th>\n",
       "      <th>visits</th>\n",
       "    </tr>\n",
       "  </thead>\n",
       "  <tbody>\n",
       "    <tr>\n",
       "      <td>0</td>\n",
       "      <td>0</td>\n",
       "      <td>2019-08-01</td>\n",
       "      <td>A</td>\n",
       "      <td>718.0</td>\n",
       "    </tr>\n",
       "    <tr>\n",
       "      <td>1</td>\n",
       "      <td>31</td>\n",
       "      <td>2019-08-01</td>\n",
       "      <td>B</td>\n",
       "      <td>709.0</td>\n",
       "    </tr>\n",
       "    <tr>\n",
       "      <td>2</td>\n",
       "      <td>1</td>\n",
       "      <td>2019-08-02</td>\n",
       "      <td>A</td>\n",
       "      <td>618.0</td>\n",
       "    </tr>\n",
       "    <tr>\n",
       "      <td>3</td>\n",
       "      <td>32</td>\n",
       "      <td>2019-08-02</td>\n",
       "      <td>B</td>\n",
       "      <td>580.0</td>\n",
       "    </tr>\n",
       "    <tr>\n",
       "      <td>4</td>\n",
       "      <td>2</td>\n",
       "      <td>2019-08-03</td>\n",
       "      <td>A</td>\n",
       "      <td>505.0</td>\n",
       "    </tr>\n",
       "  </tbody>\n",
       "</table>\n",
       "</div>"
      ],
      "text/plain": [
       "   index       date group  visits\n",
       "0      0 2019-08-01     A   718.0\n",
       "1     31 2019-08-01     B   709.0\n",
       "2      1 2019-08-02     A   618.0\n",
       "3     32 2019-08-02     B   580.0\n",
       "4      2 2019-08-03     A   505.0"
      ]
     },
     "metadata": {},
     "output_type": "display_data"
    }
   ],
   "source": [
    "# Group orders dataframe by 'date' and 'group' columns and count the number of orders place by each group\n",
    "AB_orders_groupby = orders.loc[AB_group_cond].groupby(\n",
    "    by=['date', 'group'])['transactionId'].count().reset_index()\n",
    "AB_orders_groupby = AB_orders_groupby.sort_values(by=['date', 'group'])\n",
    "printmd('Head of dataframe showing the number of orders for each date and group', color='blue')\n",
    "display(AB_orders_groupby.head())\n",
    "\n",
    "# Make an independent copy of the visits dataframe and sort its row by date and group\n",
    "visits_cleaned = visits.copy()\n",
    "visits_cleaned = visits_cleaned.sort_values(by=['date', 'group']).reset_index()\n",
    "printmd('Head of dataframe showing the number of visits for each date and group', color='blue')\n",
    "display(visits_cleaned.head())\n",
    "\n",
    "# Make a sanity check to ensure we have the same number of rows.\n",
    "print('The processed visits dataframe contains {} rows.'.format(len(visits_cleaned)))\n",
    "print('The grouped dataframe from the preprocesse orders dataframe contains {} rows.'.format(len(AB_orders_groupby)))\n",
    "\n",
    "# Substract the visits from visitors that were assigned to both groups\n",
    "visits_cleaned['visits'] = visits_cleaned['visits'] - AB_orders_groupby['transactionId']\n",
    "printmd('Head of resulting cleaned visits dataframe after substraction', color='blue')\n",
    "display(visits_cleaned.head())\n"
   ]
  },
  {
   "cell_type": "markdown",
   "metadata": {},
   "source": [
    "We cleaned the datasets and are now ready to analyze step by step the results of the A/B test."
   ]
  },
  {
   "cell_type": "markdown",
   "metadata": {},
   "source": [
    "#### Step 2.2 Computing cumulative and relative metrics <a class=\"anchor\" id=\"step2_2\"></a> "
   ]
  },
  {
   "cell_type": "markdown",
   "metadata": {},
   "source": [
    "In this step we study the following metrics:\n",
    "- The cumulative revenue by group;\n",
    "- The cumulative average order size by group;\n",
    "- The relative difference in cumulative average order size for group B compared with group A;\n",
    "- The group's daily and cumulative conversion rates, as well as their relative differnce."
   ]
  },
  {
   "cell_type": "markdown",
   "metadata": {},
   "source": [
    "We are interested in cumulative metrics, as the values of cumulative metrics do often converge and settle around a particular mean (by the central limit theorem). Plotting them can help us decide whether to continue the test or not.\n",
    "On the other hand, we plot the relative difference graphs to make the differences between computed metrics more noticeable. \n",
    "\n",
    "To compute each cumulative metric, we will first create pivot tables aggregating the appropriate parameter values on each date and for each group, and then, we take cumulative sums. "
   ]
  },
  {
   "cell_type": "markdown",
   "metadata": {},
   "source": [
    "**Cumulative revenue by group:** Let us compute and plot the cumulative revenue by day and A/B test group."
   ]
  },
  {
   "cell_type": "code",
   "execution_count": 18,
   "metadata": {
    "scrolled": false
   },
   "outputs": [
    {
     "data": {
      "text/html": [
       "<div>\n",
       "<style scoped>\n",
       "    .dataframe tbody tr th:only-of-type {\n",
       "        vertical-align: middle;\n",
       "    }\n",
       "\n",
       "    .dataframe tbody tr th {\n",
       "        vertical-align: top;\n",
       "    }\n",
       "\n",
       "    .dataframe thead th {\n",
       "        text-align: right;\n",
       "    }\n",
       "</style>\n",
       "<table border=\"1\" class=\"dataframe\">\n",
       "  <thead>\n",
       "    <tr style=\"text-align: right;\">\n",
       "      <th>group</th>\n",
       "      <th>A</th>\n",
       "      <th>B</th>\n",
       "    </tr>\n",
       "    <tr>\n",
       "      <th>date</th>\n",
       "      <th></th>\n",
       "      <th></th>\n",
       "    </tr>\n",
       "  </thead>\n",
       "  <tbody>\n",
       "    <tr>\n",
       "      <td>2019-08-01</td>\n",
       "      <td>2266.6</td>\n",
       "      <td>967.2</td>\n",
       "    </tr>\n",
       "    <tr>\n",
       "      <td>2019-08-02</td>\n",
       "      <td>3734.9</td>\n",
       "      <td>3535.3</td>\n",
       "    </tr>\n",
       "    <tr>\n",
       "      <td>2019-08-03</td>\n",
       "      <td>5550.1</td>\n",
       "      <td>4606.9</td>\n",
       "    </tr>\n",
       "    <tr>\n",
       "      <td>2019-08-04</td>\n",
       "      <td>6225.6</td>\n",
       "      <td>6138.5</td>\n",
       "    </tr>\n",
       "    <tr>\n",
       "      <td>2019-08-05</td>\n",
       "      <td>7623.6</td>\n",
       "      <td>7587.8</td>\n",
       "    </tr>\n",
       "    <tr>\n",
       "      <td>2019-08-06</td>\n",
       "      <td>8292.0</td>\n",
       "      <td>10957.1</td>\n",
       "    </tr>\n",
       "    <tr>\n",
       "      <td>2019-08-07</td>\n",
       "      <td>10234.0</td>\n",
       "      <td>14392.7</td>\n",
       "    </tr>\n",
       "    <tr>\n",
       "      <td>2019-08-08</td>\n",
       "      <td>11638.8</td>\n",
       "      <td>16772.6</td>\n",
       "    </tr>\n",
       "    <tr>\n",
       "      <td>2019-08-09</td>\n",
       "      <td>13734.0</td>\n",
       "      <td>18428.8</td>\n",
       "    </tr>\n",
       "    <tr>\n",
       "      <td>2019-08-10</td>\n",
       "      <td>16121.5</td>\n",
       "      <td>20103.6</td>\n",
       "    </tr>\n",
       "    <tr>\n",
       "      <td>2019-08-11</td>\n",
       "      <td>17084.9</td>\n",
       "      <td>20959.0</td>\n",
       "    </tr>\n",
       "    <tr>\n",
       "      <td>2019-08-12</td>\n",
       "      <td>20533.7</td>\n",
       "      <td>22616.8</td>\n",
       "    </tr>\n",
       "    <tr>\n",
       "      <td>2019-08-13</td>\n",
       "      <td>24630.6</td>\n",
       "      <td>24491.3</td>\n",
       "    </tr>\n",
       "    <tr>\n",
       "      <td>2019-08-14</td>\n",
       "      <td>25347.2</td>\n",
       "      <td>26183.7</td>\n",
       "    </tr>\n",
       "    <tr>\n",
       "      <td>2019-08-15</td>\n",
       "      <td>26622.5</td>\n",
       "      <td>31033.2</td>\n",
       "    </tr>\n",
       "    <tr>\n",
       "      <td>2019-08-16</td>\n",
       "      <td>28221.6</td>\n",
       "      <td>32840.2</td>\n",
       "    </tr>\n",
       "    <tr>\n",
       "      <td>2019-08-17</td>\n",
       "      <td>28770.1</td>\n",
       "      <td>34116.2</td>\n",
       "    </tr>\n",
       "    <tr>\n",
       "      <td>2019-08-18</td>\n",
       "      <td>29735.7</td>\n",
       "      <td>34684.7</td>\n",
       "    </tr>\n",
       "    <tr>\n",
       "      <td>2019-08-19</td>\n",
       "      <td>32389.3</td>\n",
       "      <td>56749.6</td>\n",
       "    </tr>\n",
       "    <tr>\n",
       "      <td>2019-08-20</td>\n",
       "      <td>33325.3</td>\n",
       "      <td>59074.2</td>\n",
       "    </tr>\n",
       "    <tr>\n",
       "      <td>2019-08-21</td>\n",
       "      <td>36004.2</td>\n",
       "      <td>61274.4</td>\n",
       "    </tr>\n",
       "    <tr>\n",
       "      <td>2019-08-22</td>\n",
       "      <td>37455.1</td>\n",
       "      <td>63503.9</td>\n",
       "    </tr>\n",
       "    <tr>\n",
       "      <td>2019-08-23</td>\n",
       "      <td>38409.2</td>\n",
       "      <td>64732.8</td>\n",
       "    </tr>\n",
       "    <tr>\n",
       "      <td>2019-08-24</td>\n",
       "      <td>40321.3</td>\n",
       "      <td>66138.5</td>\n",
       "    </tr>\n",
       "    <tr>\n",
       "      <td>2019-08-25</td>\n",
       "      <td>41139.5</td>\n",
       "      <td>67393.8</td>\n",
       "    </tr>\n",
       "    <tr>\n",
       "      <td>2019-08-26</td>\n",
       "      <td>43604.3</td>\n",
       "      <td>70138.1</td>\n",
       "    </tr>\n",
       "    <tr>\n",
       "      <td>2019-08-27</td>\n",
       "      <td>46539.0</td>\n",
       "      <td>71885.0</td>\n",
       "    </tr>\n",
       "    <tr>\n",
       "      <td>2019-08-28</td>\n",
       "      <td>48065.9</td>\n",
       "      <td>72895.5</td>\n",
       "    </tr>\n",
       "    <tr>\n",
       "      <td>2019-08-29</td>\n",
       "      <td>51134.8</td>\n",
       "      <td>74576.7</td>\n",
       "    </tr>\n",
       "    <tr>\n",
       "      <td>2019-08-30</td>\n",
       "      <td>52363.7</td>\n",
       "      <td>77863.5</td>\n",
       "    </tr>\n",
       "    <tr>\n",
       "      <td>2019-08-31</td>\n",
       "      <td>53212.0</td>\n",
       "      <td>79651.2</td>\n",
       "    </tr>\n",
       "  </tbody>\n",
       "</table>\n",
       "</div>"
      ],
      "text/plain": [
       "group             A        B\n",
       "date                        \n",
       "2019-08-01   2266.6    967.2\n",
       "2019-08-02   3734.9   3535.3\n",
       "2019-08-03   5550.1   4606.9\n",
       "2019-08-04   6225.6   6138.5\n",
       "2019-08-05   7623.6   7587.8\n",
       "2019-08-06   8292.0  10957.1\n",
       "2019-08-07  10234.0  14392.7\n",
       "2019-08-08  11638.8  16772.6\n",
       "2019-08-09  13734.0  18428.8\n",
       "2019-08-10  16121.5  20103.6\n",
       "2019-08-11  17084.9  20959.0\n",
       "2019-08-12  20533.7  22616.8\n",
       "2019-08-13  24630.6  24491.3\n",
       "2019-08-14  25347.2  26183.7\n",
       "2019-08-15  26622.5  31033.2\n",
       "2019-08-16  28221.6  32840.2\n",
       "2019-08-17  28770.1  34116.2\n",
       "2019-08-18  29735.7  34684.7\n",
       "2019-08-19  32389.3  56749.6\n",
       "2019-08-20  33325.3  59074.2\n",
       "2019-08-21  36004.2  61274.4\n",
       "2019-08-22  37455.1  63503.9\n",
       "2019-08-23  38409.2  64732.8\n",
       "2019-08-24  40321.3  66138.5\n",
       "2019-08-25  41139.5  67393.8\n",
       "2019-08-26  43604.3  70138.1\n",
       "2019-08-27  46539.0  71885.0\n",
       "2019-08-28  48065.9  72895.5\n",
       "2019-08-29  51134.8  74576.7\n",
       "2019-08-30  52363.7  77863.5\n",
       "2019-08-31  53212.0  79651.2"
      ]
     },
     "metadata": {},
     "output_type": "display_data"
    },
    {
     "data": {
      "image/png": "[encoded data removed]",
      "text/plain": [
       "<Figure size 864x432 with 1 Axes>"
      ]
     },
     "metadata": {
      "needs_background": "light"
     },
     "output_type": "display_data"
    }
   ],
   "source": [
    "# Create a pivot table to find the total revenue from each group on each date \n",
    "rev_pivot = pd.pivot_table(index='date', columns='group', values='revenue', \n",
    "            aggfunc='sum' , data=orders_cleaned)\n",
    "# display(rev_pivot)\n",
    "\n",
    "# Compute cumulative revenue summing rows of the pivot table via pandas.DataFrame.cumsum() function\n",
    "cum_rev_pivot = rev_pivot.cumsum()\n",
    "display(cum_rev_pivot)\n",
    "\n",
    "# Plot cumulative revenue of each group on the same graph\n",
    "plt.figure(figsize=(12, 6))\n",
    "\n",
    "# Plotting the cumulative revenue graph of group A\n",
    "plt.plot(cum_rev_pivot.index, cum_rev_pivot['A'], label='Group A')\n",
    "\n",
    "# Plotting the cumulative revenue graph of group B\n",
    "plt.plot(cum_rev_pivot.index, cum_rev_pivot['B'], label='Group B')\n",
    "\n",
    "plt.title('Cumulative revenue by A/B test group', fontsize=18)\n",
    "plt.xlabel('Date', fontsize=16)\n",
    "plt.ylabel('Cumulative revenue\\n(in US dollars)', fontsize=16)\n",
    "plt.grid()\n",
    "plt.legend(fontsize=14)\n",
    "plt.xticks(rotation=45, fontsize=14)\n",
    "plt.yticks(fontsize=14)\n",
    "plt.show()\n"
   ]
  },
  {
   "cell_type": "markdown",
   "metadata": {},
   "source": [
    "As a good sign, we observe that the revenue is rising steadily throughout the whole test. We also observe that, at the end of the month, cumulated revenue from group B is approximately 1.6 times larger than group A. In fact, we see that group B sees a big jump in revenue after mid-month (the 19th day to be more precise). After that point onward, the gap between the revenues from group A and group B remains more or less constant. This may be due either to a surge in the number of orders or the presence of very expensive orders from group B. We will later analyze the outliers causing the observed jump.  "
   ]
  },
  {
   "cell_type": "markdown",
   "metadata": {},
   "source": [
    "**Cumulative average order size by group:** We compute and plot the average order size by group. To compute this metric, we divide the cumulative revenue by the cumulative number of orders. "
   ]
  },
  {
   "cell_type": "code",
   "execution_count": 19,
   "metadata": {},
   "outputs": [
    {
     "data": {
      "text/html": [
       "<div>\n",
       "<style scoped>\n",
       "    .dataframe tbody tr th:only-of-type {\n",
       "        vertical-align: middle;\n",
       "    }\n",
       "\n",
       "    .dataframe tbody tr th {\n",
       "        vertical-align: top;\n",
       "    }\n",
       "\n",
       "    .dataframe thead th {\n",
       "        text-align: right;\n",
       "    }\n",
       "</style>\n",
       "<table border=\"1\" class=\"dataframe\">\n",
       "  <thead>\n",
       "    <tr style=\"text-align: right;\">\n",
       "      <th>group</th>\n",
       "      <th>A</th>\n",
       "      <th>B</th>\n",
       "    </tr>\n",
       "    <tr>\n",
       "      <th>date</th>\n",
       "      <th></th>\n",
       "      <th></th>\n",
       "    </tr>\n",
       "  </thead>\n",
       "  <tbody>\n",
       "    <tr>\n",
       "      <td>2019-08-01</td>\n",
       "      <td>98.547826</td>\n",
       "      <td>56.894118</td>\n",
       "    </tr>\n",
       "    <tr>\n",
       "      <td>2019-08-02</td>\n",
       "      <td>88.926190</td>\n",
       "      <td>88.382500</td>\n",
       "    </tr>\n",
       "    <tr>\n",
       "      <td>2019-08-03</td>\n",
       "      <td>84.092424</td>\n",
       "      <td>85.312963</td>\n",
       "    </tr>\n",
       "    <tr>\n",
       "      <td>2019-08-04</td>\n",
       "      <td>80.851948</td>\n",
       "      <td>90.272059</td>\n",
       "    </tr>\n",
       "    <tr>\n",
       "      <td>2019-08-05</td>\n",
       "      <td>77.006061</td>\n",
       "      <td>85.256180</td>\n",
       "    </tr>\n",
       "    <tr>\n",
       "      <td>2019-08-06</td>\n",
       "      <td>72.736842</td>\n",
       "      <td>97.831250</td>\n",
       "    </tr>\n",
       "    <tr>\n",
       "      <td>2019-08-07</td>\n",
       "      <td>78.723077</td>\n",
       "      <td>106.612593</td>\n",
       "    </tr>\n",
       "    <tr>\n",
       "      <td>2019-08-08</td>\n",
       "      <td>80.825000</td>\n",
       "      <td>106.831847</td>\n",
       "    </tr>\n",
       "    <tr>\n",
       "      <td>2019-08-09</td>\n",
       "      <td>88.606452</td>\n",
       "      <td>104.709091</td>\n",
       "    </tr>\n",
       "    <tr>\n",
       "      <td>2019-08-10</td>\n",
       "      <td>94.832353</td>\n",
       "      <td>101.533333</td>\n",
       "    </tr>\n",
       "    <tr>\n",
       "      <td>2019-08-11</td>\n",
       "      <td>94.391713</td>\n",
       "      <td>99.804762</td>\n",
       "    </tr>\n",
       "    <tr>\n",
       "      <td>2019-08-12</td>\n",
       "      <td>102.668500</td>\n",
       "      <td>98.763319</td>\n",
       "    </tr>\n",
       "    <tr>\n",
       "      <td>2019-08-13</td>\n",
       "      <td>115.096262</td>\n",
       "      <td>98.358635</td>\n",
       "    </tr>\n",
       "    <tr>\n",
       "      <td>2019-08-14</td>\n",
       "      <td>109.728139</td>\n",
       "      <td>99.557795</td>\n",
       "    </tr>\n",
       "    <tr>\n",
       "      <td>2019-08-15</td>\n",
       "      <td>110.466805</td>\n",
       "      <td>107.381315</td>\n",
       "    </tr>\n",
       "    <tr>\n",
       "      <td>2019-08-16</td>\n",
       "      <td>108.963707</td>\n",
       "      <td>106.971336</td>\n",
       "    </tr>\n",
       "    <tr>\n",
       "      <td>2019-08-17</td>\n",
       "      <td>108.566415</td>\n",
       "      <td>106.613125</td>\n",
       "    </tr>\n",
       "    <tr>\n",
       "      <td>2019-08-18</td>\n",
       "      <td>106.962950</td>\n",
       "      <td>106.069419</td>\n",
       "    </tr>\n",
       "    <tr>\n",
       "      <td>2019-08-19</td>\n",
       "      <td>108.325418</td>\n",
       "      <td>163.073563</td>\n",
       "    </tr>\n",
       "    <tr>\n",
       "      <td>2019-08-20</td>\n",
       "      <td>107.848867</td>\n",
       "      <td>160.527717</td>\n",
       "    </tr>\n",
       "    <tr>\n",
       "      <td>2019-08-21</td>\n",
       "      <td>109.435258</td>\n",
       "      <td>161.248421</td>\n",
       "    </tr>\n",
       "    <tr>\n",
       "      <td>2019-08-22</td>\n",
       "      <td>110.487021</td>\n",
       "      <td>158.363840</td>\n",
       "    </tr>\n",
       "    <tr>\n",
       "      <td>2019-08-23</td>\n",
       "      <td>106.989415</td>\n",
       "      <td>156.359420</td>\n",
       "    </tr>\n",
       "    <tr>\n",
       "      <td>2019-08-24</td>\n",
       "      <td>108.390591</td>\n",
       "      <td>154.529206</td>\n",
       "    </tr>\n",
       "    <tr>\n",
       "      <td>2019-08-25</td>\n",
       "      <td>108.261842</td>\n",
       "      <td>153.167727</td>\n",
       "    </tr>\n",
       "    <tr>\n",
       "      <td>2019-08-26</td>\n",
       "      <td>110.111869</td>\n",
       "      <td>151.814069</td>\n",
       "    </tr>\n",
       "    <tr>\n",
       "      <td>2019-08-27</td>\n",
       "      <td>111.071599</td>\n",
       "      <td>151.976744</td>\n",
       "    </tr>\n",
       "    <tr>\n",
       "      <td>2019-08-28</td>\n",
       "      <td>110.750922</td>\n",
       "      <td>147.263636</td>\n",
       "    </tr>\n",
       "    <tr>\n",
       "      <td>2019-08-29</td>\n",
       "      <td>113.380931</td>\n",
       "      <td>146.228824</td>\n",
       "    </tr>\n",
       "    <tr>\n",
       "      <td>2019-08-30</td>\n",
       "      <td>113.834130</td>\n",
       "      <td>146.635593</td>\n",
       "    </tr>\n",
       "    <tr>\n",
       "      <td>2019-08-31</td>\n",
       "      <td>113.700855</td>\n",
       "      <td>145.348905</td>\n",
       "    </tr>\n",
       "  </tbody>\n",
       "</table>\n",
       "</div>"
      ],
      "text/plain": [
       "group                A           B\n",
       "date                              \n",
       "2019-08-01   98.547826   56.894118\n",
       "2019-08-02   88.926190   88.382500\n",
       "2019-08-03   84.092424   85.312963\n",
       "2019-08-04   80.851948   90.272059\n",
       "2019-08-05   77.006061   85.256180\n",
       "2019-08-06   72.736842   97.831250\n",
       "2019-08-07   78.723077  106.612593\n",
       "2019-08-08   80.825000  106.831847\n",
       "2019-08-09   88.606452  104.709091\n",
       "2019-08-10   94.832353  101.533333\n",
       "2019-08-11   94.391713   99.804762\n",
       "2019-08-12  102.668500   98.763319\n",
       "2019-08-13  115.096262   98.358635\n",
       "2019-08-14  109.728139   99.557795\n",
       "2019-08-15  110.466805  107.381315\n",
       "2019-08-16  108.963707  106.971336\n",
       "2019-08-17  108.566415  106.613125\n",
       "2019-08-18  106.962950  106.069419\n",
       "2019-08-19  108.325418  163.073563\n",
       "2019-08-20  107.848867  160.527717\n",
       "2019-08-21  109.435258  161.248421\n",
       "2019-08-22  110.487021  158.363840\n",
       "2019-08-23  106.989415  156.359420\n",
       "2019-08-24  108.390591  154.529206\n",
       "2019-08-25  108.261842  153.167727\n",
       "2019-08-26  110.111869  151.814069\n",
       "2019-08-27  111.071599  151.976744\n",
       "2019-08-28  110.750922  147.263636\n",
       "2019-08-29  113.380931  146.228824\n",
       "2019-08-30  113.834130  146.635593\n",
       "2019-08-31  113.700855  145.348905"
      ]
     },
     "metadata": {},
     "output_type": "display_data"
    },
    {
     "data": {
      "image/png": "[encoded data removed]",
      "text/plain": [
       "<Figure size 864x432 with 1 Axes>"
      ]
     },
     "metadata": {
      "needs_background": "light"
     },
     "output_type": "display_data"
    }
   ],
   "source": [
    "# Create a pivot table to find the total number of orders from each group on each date \n",
    "order_count_pivot = pd.pivot_table(index='date', columns='group', \n",
    "                                     values='transactionId', aggfunc='count',\n",
    "                                     data=orders_cleaned)\n",
    "# display(order_size_pivot)\n",
    "\n",
    "# Compute cumulative number of orders from the pivot table\n",
    "cum_order_count_pivot = order_count_pivot.cumsum()\n",
    "# display(cum_order_size_pivot)\n",
    "\n",
    "# Compute average order size by taking the ratio of the entris from the cumulative revenue and cumulative order tables\n",
    "cum_avg_order_size_pivot = cum_rev_pivot/cum_order_count_pivot\n",
    "display(cum_avg_order_size_pivot)\n",
    "\n",
    "# Plot average order size of each group on the same graph\n",
    "plt.figure(figsize=(12, 6))\n",
    "\n",
    "# Plotting the average order size graph of group A\n",
    "plt.plot(cum_avg_order_size_pivot.index, cum_avg_order_size_pivot['A'], label='Group A')\n",
    "# Plotting the average order size graph of group A\n",
    "plt.plot(cum_avg_order_size_pivot.index, cum_avg_order_size_pivot['B'], label='Group B')\n",
    "\n",
    "plt.title('Cumulative average order size by A/B test group)', fontsize=18)\n",
    "plt.xlabel('Date', fontsize=16)\n",
    "plt.ylabel('Cumulative average order size\\n(in US dollars)', fontsize=16)\n",
    "plt.legend(fontsize=14)\n",
    "plt.grid()\n",
    "plt.xticks(rotation=45, fontsize=14)\n",
    "plt.yticks(fontsize=14)\n",
    "plt.show()\n"
   ]
  },
  {
   "cell_type": "markdown",
   "metadata": {},
   "source": [
    "We see that the average order size display a steady behavior by the end of the test for both groups. In particular, it stabilizes for group A and steadily keep decreasing for group B. In the first half of the month, we observe that there was first a drop and then a surge in the average order size of group A. In the second half of the month, the order size of group A showed a relatively flat behavior. As for group B, we observe 3 large surge: one in the first few days of the month, another one after between the 5th and 7th day of the month, and a big jump of close 60 orders more after mid-month (also on the 19th day of the month). Thus, we conclude that the surge in the cumulative revenue that happened on the same day mid-month, also resulted in the surge of the cumulative average order size. This means again that large and/or expensive orders were place on that day. "
   ]
  },
  {
   "cell_type": "markdown",
   "metadata": {},
   "source": [
    "**Relative difference in cumulative average order size for group B\n",
    "compared with group A:** We compute and plot the relative difference of the average orders sizes for group B\n",
    "compared with group A. This is given by the ratio of the cumulative orders size of group B to the one of group A minus 1. "
   ]
  },
  {
   "cell_type": "code",
   "execution_count": 20,
   "metadata": {},
   "outputs": [
    {
     "data": {
      "text/html": [
       "<div>\n",
       "<style scoped>\n",
       "    .dataframe tbody tr th:only-of-type {\n",
       "        vertical-align: middle;\n",
       "    }\n",
       "\n",
       "    .dataframe tbody tr th {\n",
       "        vertical-align: top;\n",
       "    }\n",
       "\n",
       "    .dataframe thead th {\n",
       "        text-align: right;\n",
       "    }\n",
       "</style>\n",
       "<table border=\"1\" class=\"dataframe\">\n",
       "  <thead>\n",
       "    <tr style=\"text-align: right;\">\n",
       "      <th></th>\n",
       "      <th>relative_diff</th>\n",
       "    </tr>\n",
       "    <tr>\n",
       "      <th>date</th>\n",
       "      <th></th>\n",
       "    </tr>\n",
       "  </thead>\n",
       "  <tbody>\n",
       "    <tr>\n",
       "      <td>2019-08-01</td>\n",
       "      <td>-0.422675</td>\n",
       "    </tr>\n",
       "    <tr>\n",
       "      <td>2019-08-02</td>\n",
       "      <td>-0.006114</td>\n",
       "    </tr>\n",
       "    <tr>\n",
       "      <td>2019-08-03</td>\n",
       "      <td>0.014514</td>\n",
       "    </tr>\n",
       "    <tr>\n",
       "      <td>2019-08-04</td>\n",
       "      <td>0.116511</td>\n",
       "    </tr>\n",
       "    <tr>\n",
       "      <td>2019-08-05</td>\n",
       "      <td>0.107136</td>\n",
       "    </tr>\n",
       "    <tr>\n",
       "      <td>2019-08-06</td>\n",
       "      <td>0.345003</td>\n",
       "    </tr>\n",
       "    <tr>\n",
       "      <td>2019-08-07</td>\n",
       "      <td>0.354274</td>\n",
       "    </tr>\n",
       "    <tr>\n",
       "      <td>2019-08-08</td>\n",
       "      <td>0.321767</td>\n",
       "    </tr>\n",
       "    <tr>\n",
       "      <td>2019-08-09</td>\n",
       "      <td>0.181732</td>\n",
       "    </tr>\n",
       "    <tr>\n",
       "      <td>2019-08-10</td>\n",
       "      <td>0.070661</td>\n",
       "    </tr>\n",
       "    <tr>\n",
       "      <td>2019-08-11</td>\n",
       "      <td>0.057347</td>\n",
       "    </tr>\n",
       "    <tr>\n",
       "      <td>2019-08-12</td>\n",
       "      <td>-0.038037</td>\n",
       "    </tr>\n",
       "    <tr>\n",
       "      <td>2019-08-13</td>\n",
       "      <td>-0.145423</td>\n",
       "    </tr>\n",
       "    <tr>\n",
       "      <td>2019-08-14</td>\n",
       "      <td>-0.092687</td>\n",
       "    </tr>\n",
       "    <tr>\n",
       "      <td>2019-08-15</td>\n",
       "      <td>-0.027931</td>\n",
       "    </tr>\n",
       "    <tr>\n",
       "      <td>2019-08-16</td>\n",
       "      <td>-0.018285</td>\n",
       "    </tr>\n",
       "    <tr>\n",
       "      <td>2019-08-17</td>\n",
       "      <td>-0.017992</td>\n",
       "    </tr>\n",
       "    <tr>\n",
       "      <td>2019-08-18</td>\n",
       "      <td>-0.008354</td>\n",
       "    </tr>\n",
       "    <tr>\n",
       "      <td>2019-08-19</td>\n",
       "      <td>0.505404</td>\n",
       "    </tr>\n",
       "    <tr>\n",
       "      <td>2019-08-20</td>\n",
       "      <td>0.488451</td>\n",
       "    </tr>\n",
       "    <tr>\n",
       "      <td>2019-08-21</td>\n",
       "      <td>0.473459</td>\n",
       "    </tr>\n",
       "    <tr>\n",
       "      <td>2019-08-22</td>\n",
       "      <td>0.433325</td>\n",
       "    </tr>\n",
       "    <tr>\n",
       "      <td>2019-08-23</td>\n",
       "      <td>0.461448</td>\n",
       "    </tr>\n",
       "    <tr>\n",
       "      <td>2019-08-24</td>\n",
       "      <td>0.425670</td>\n",
       "    </tr>\n",
       "    <tr>\n",
       "      <td>2019-08-25</td>\n",
       "      <td>0.414790</td>\n",
       "    </tr>\n",
       "    <tr>\n",
       "      <td>2019-08-26</td>\n",
       "      <td>0.378726</td>\n",
       "    </tr>\n",
       "    <tr>\n",
       "      <td>2019-08-27</td>\n",
       "      <td>0.368277</td>\n",
       "    </tr>\n",
       "    <tr>\n",
       "      <td>2019-08-28</td>\n",
       "      <td>0.329683</td>\n",
       "    </tr>\n",
       "    <tr>\n",
       "      <td>2019-08-29</td>\n",
       "      <td>0.289713</td>\n",
       "    </tr>\n",
       "    <tr>\n",
       "      <td>2019-08-30</td>\n",
       "      <td>0.288151</td>\n",
       "    </tr>\n",
       "    <tr>\n",
       "      <td>2019-08-31</td>\n",
       "      <td>0.278345</td>\n",
       "    </tr>\n",
       "  </tbody>\n",
       "</table>\n",
       "</div>"
      ],
      "text/plain": [
       "            relative_diff\n",
       "date                     \n",
       "2019-08-01      -0.422675\n",
       "2019-08-02      -0.006114\n",
       "2019-08-03       0.014514\n",
       "2019-08-04       0.116511\n",
       "2019-08-05       0.107136\n",
       "2019-08-06       0.345003\n",
       "2019-08-07       0.354274\n",
       "2019-08-08       0.321767\n",
       "2019-08-09       0.181732\n",
       "2019-08-10       0.070661\n",
       "2019-08-11       0.057347\n",
       "2019-08-12      -0.038037\n",
       "2019-08-13      -0.145423\n",
       "2019-08-14      -0.092687\n",
       "2019-08-15      -0.027931\n",
       "2019-08-16      -0.018285\n",
       "2019-08-17      -0.017992\n",
       "2019-08-18      -0.008354\n",
       "2019-08-19       0.505404\n",
       "2019-08-20       0.488451\n",
       "2019-08-21       0.473459\n",
       "2019-08-22       0.433325\n",
       "2019-08-23       0.461448\n",
       "2019-08-24       0.425670\n",
       "2019-08-25       0.414790\n",
       "2019-08-26       0.378726\n",
       "2019-08-27       0.368277\n",
       "2019-08-28       0.329683\n",
       "2019-08-29       0.289713\n",
       "2019-08-30       0.288151\n",
       "2019-08-31       0.278345"
      ]
     },
     "metadata": {},
     "output_type": "display_data"
    },
    {
     "data": {
      "image/png": "[encoded data removed]",
      "text/plain": [
       "<Figure size 864x432 with 1 Axes>"
      ]
     },
     "metadata": {
      "needs_background": "light"
     },
     "output_type": "display_data"
    }
   ],
   "source": [
    "# Compute the relative difference in cumulative average order\n",
    "rel_diff_cum_avg_order_size = cum_avg_order_size_pivot['B']/cum_avg_order_size_pivot['A'] - 1\n",
    "display(rel_diff_cum_avg_order_size.to_frame(name='relative_diff'))\n",
    "\n",
    "# Plot the relative difference in cumulative average order\n",
    "plt.figure(figsize=(12, 6))\n",
    "plt.plot(rel_diff_cum_avg_order_size.index, rel_diff_cum_avg_order_size)\n",
    "\n",
    "plt.title('Relative difference in cumulative average order size \\n'\n",
    "          'for group B compared with group A', fontsize=18)\n",
    "plt.xlabel('Date', fontsize=16)\n",
    "plt.ylabel('Relative difference', fontsize=16) \n",
    "plt.xticks(rotation=45, fontsize=14)\n",
    "plt.yticks(fontsize=14)\n",
    "plt.grid()\n",
    "\n",
    "# adding a horizontal axis with the axhline() method\n",
    "plt.axhline(y=0, color='red', linestyle='--')\n",
    "plt.show()\n"
   ]
  },
  {
   "cell_type": "markdown",
   "metadata": {},
   "source": [
    "We observe spikes at several points in the difference between the groups. The location of the spikes indeed match the locations of the surges we observed in the average order size of group B. These spikes hint on the presence of some big orders and outliers, which we will find later."
   ]
  },
  {
   "cell_type": "markdown",
   "metadata": {},
   "source": [
    "**Group's conversion rates:** We calculate and plot both each group's daily and cumulative conversion rates, as well as the relative conversion rate of group B compared with group A. The convertion rate is computed by taking the ratio of orders to the number of visits. "
   ]
  },
  {
   "cell_type": "code",
   "execution_count": 21,
   "metadata": {
    "scrolled": false
   },
   "outputs": [
    {
     "data": {
      "text/html": [
       "<div>\n",
       "<style scoped>\n",
       "    .dataframe tbody tr th:only-of-type {\n",
       "        vertical-align: middle;\n",
       "    }\n",
       "\n",
       "    .dataframe tbody tr th {\n",
       "        vertical-align: top;\n",
       "    }\n",
       "\n",
       "    .dataframe thead th {\n",
       "        text-align: right;\n",
       "    }\n",
       "</style>\n",
       "<table border=\"1\" class=\"dataframe\">\n",
       "  <thead>\n",
       "    <tr style=\"text-align: right;\">\n",
       "      <th>group</th>\n",
       "      <th>A</th>\n",
       "      <th>B</th>\n",
       "    </tr>\n",
       "    <tr>\n",
       "      <th>date</th>\n",
       "      <th></th>\n",
       "      <th></th>\n",
       "    </tr>\n",
       "  </thead>\n",
       "  <tbody>\n",
       "    <tr>\n",
       "      <td>2019-08-01</td>\n",
       "      <td>0.032033</td>\n",
       "      <td>0.023977</td>\n",
       "    </tr>\n",
       "    <tr>\n",
       "      <td>2019-08-02</td>\n",
       "      <td>0.030744</td>\n",
       "      <td>0.039655</td>\n",
       "    </tr>\n",
       "    <tr>\n",
       "      <td>2019-08-03</td>\n",
       "      <td>0.047525</td>\n",
       "      <td>0.027778</td>\n",
       "    </tr>\n",
       "    <tr>\n",
       "      <td>2019-08-04</td>\n",
       "      <td>0.015406</td>\n",
       "      <td>0.018253</td>\n",
       "    </tr>\n",
       "    <tr>\n",
       "      <td>2019-08-05</td>\n",
       "      <td>0.029178</td>\n",
       "      <td>0.029830</td>\n",
       "    </tr>\n",
       "    <tr>\n",
       "      <td>2019-08-06</td>\n",
       "      <td>0.022659</td>\n",
       "      <td>0.035222</td>\n",
       "    </tr>\n",
       "    <tr>\n",
       "      <td>2019-08-07</td>\n",
       "      <td>0.024883</td>\n",
       "      <td>0.032532</td>\n",
       "    </tr>\n",
       "    <tr>\n",
       "      <td>2019-08-08</td>\n",
       "      <td>0.023140</td>\n",
       "      <td>0.033898</td>\n",
       "    </tr>\n",
       "    <tr>\n",
       "      <td>2019-08-09</td>\n",
       "      <td>0.018003</td>\n",
       "      <td>0.031199</td>\n",
       "    </tr>\n",
       "    <tr>\n",
       "      <td>2019-08-10</td>\n",
       "      <td>0.037037</td>\n",
       "      <td>0.059946</td>\n",
       "    </tr>\n",
       "    <tr>\n",
       "      <td>2019-08-11</td>\n",
       "      <td>0.015342</td>\n",
       "      <td>0.016760</td>\n",
       "    </tr>\n",
       "    <tr>\n",
       "      <td>2019-08-12</td>\n",
       "      <td>0.032149</td>\n",
       "      <td>0.035055</td>\n",
       "    </tr>\n",
       "    <tr>\n",
       "      <td>2019-08-13</td>\n",
       "      <td>0.018893</td>\n",
       "      <td>0.026316</td>\n",
       "    </tr>\n",
       "    <tr>\n",
       "      <td>2019-08-14</td>\n",
       "      <td>0.023288</td>\n",
       "      <td>0.018893</td>\n",
       "    </tr>\n",
       "    <tr>\n",
       "      <td>2019-08-15</td>\n",
       "      <td>0.015974</td>\n",
       "      <td>0.048148</td>\n",
       "    </tr>\n",
       "    <tr>\n",
       "      <td>2019-08-16</td>\n",
       "      <td>0.050000</td>\n",
       "      <td>0.044010</td>\n",
       "    </tr>\n",
       "    <tr>\n",
       "      <td>2019-08-17</td>\n",
       "      <td>0.014634</td>\n",
       "      <td>0.030952</td>\n",
       "    </tr>\n",
       "    <tr>\n",
       "      <td>2019-08-18</td>\n",
       "      <td>0.019520</td>\n",
       "      <td>0.009537</td>\n",
       "    </tr>\n",
       "    <tr>\n",
       "      <td>2019-08-19</td>\n",
       "      <td>0.042000</td>\n",
       "      <td>0.043659</td>\n",
       "    </tr>\n",
       "    <tr>\n",
       "      <td>2019-08-20</td>\n",
       "      <td>0.017513</td>\n",
       "      <td>0.036036</td>\n",
       "    </tr>\n",
       "    <tr>\n",
       "      <td>2019-08-21</td>\n",
       "      <td>0.031056</td>\n",
       "      <td>0.018349</td>\n",
       "    </tr>\n",
       "    <tr>\n",
       "      <td>2019-08-22</td>\n",
       "      <td>0.016474</td>\n",
       "      <td>0.032407</td>\n",
       "    </tr>\n",
       "    <tr>\n",
       "      <td>2019-08-23</td>\n",
       "      <td>0.042918</td>\n",
       "      <td>0.023941</td>\n",
       "    </tr>\n",
       "    <tr>\n",
       "      <td>2019-08-24</td>\n",
       "      <td>0.033333</td>\n",
       "      <td>0.037534</td>\n",
       "    </tr>\n",
       "    <tr>\n",
       "      <td>2019-08-25</td>\n",
       "      <td>0.012924</td>\n",
       "      <td>0.017831</td>\n",
       "    </tr>\n",
       "    <tr>\n",
       "      <td>2019-08-26</td>\n",
       "      <td>0.022315</td>\n",
       "      <td>0.032787</td>\n",
       "    </tr>\n",
       "    <tr>\n",
       "      <td>2019-08-27</td>\n",
       "      <td>0.032440</td>\n",
       "      <td>0.015342</td>\n",
       "    </tr>\n",
       "    <tr>\n",
       "      <td>2019-08-28</td>\n",
       "      <td>0.025424</td>\n",
       "      <td>0.033794</td>\n",
       "    </tr>\n",
       "    <tr>\n",
       "      <td>2019-08-29</td>\n",
       "      <td>NaN</td>\n",
       "      <td>NaN</td>\n",
       "    </tr>\n",
       "    <tr>\n",
       "      <td>2019-08-30</td>\n",
       "      <td>NaN</td>\n",
       "      <td>NaN</td>\n",
       "    </tr>\n",
       "    <tr>\n",
       "      <td>2019-08-31</td>\n",
       "      <td>NaN</td>\n",
       "      <td>NaN</td>\n",
       "    </tr>\n",
       "  </tbody>\n",
       "</table>\n",
       "</div>"
      ],
      "text/plain": [
       "group              A         B\n",
       "date                          \n",
       "2019-08-01  0.032033  0.023977\n",
       "2019-08-02  0.030744  0.039655\n",
       "2019-08-03  0.047525  0.027778\n",
       "2019-08-04  0.015406  0.018253\n",
       "2019-08-05  0.029178  0.029830\n",
       "2019-08-06  0.022659  0.035222\n",
       "2019-08-07  0.024883  0.032532\n",
       "2019-08-08  0.023140  0.033898\n",
       "2019-08-09  0.018003  0.031199\n",
       "2019-08-10  0.037037  0.059946\n",
       "2019-08-11  0.015342  0.016760\n",
       "2019-08-12  0.032149  0.035055\n",
       "2019-08-13  0.018893  0.026316\n",
       "2019-08-14  0.023288  0.018893\n",
       "2019-08-15  0.015974  0.048148\n",
       "2019-08-16  0.050000  0.044010\n",
       "2019-08-17  0.014634  0.030952\n",
       "2019-08-18  0.019520  0.009537\n",
       "2019-08-19  0.042000  0.043659\n",
       "2019-08-20  0.017513  0.036036\n",
       "2019-08-21  0.031056  0.018349\n",
       "2019-08-22  0.016474  0.032407\n",
       "2019-08-23  0.042918  0.023941\n",
       "2019-08-24  0.033333  0.037534\n",
       "2019-08-25  0.012924  0.017831\n",
       "2019-08-26  0.022315  0.032787\n",
       "2019-08-27  0.032440  0.015342\n",
       "2019-08-28  0.025424  0.033794\n",
       "2019-08-29       NaN       NaN\n",
       "2019-08-30       NaN       NaN\n",
       "2019-08-31       NaN       NaN"
      ]
     },
     "metadata": {},
     "output_type": "display_data"
    },
    {
     "data": {
      "image/png": "[encoded data removed]",
      "text/plain": [
       "<Figure size 864x432 with 1 Axes>"
      ]
     },
     "metadata": {
      "needs_background": "light"
     },
     "output_type": "display_data"
    }
   ],
   "source": [
    "# Create a pivot table to display the number of visits from each group on each date \n",
    "visits_pivot = pd.pivot_table(index='date', columns='group', \n",
    "                                     values='visits',\n",
    "                                     data=visits_cleaned)\n",
    "# display(visits_pivot)\n",
    "\n",
    "# Compute the cumulative number of visits from the pivot table\n",
    "cum_visits_pivot = visits_pivot.cumsum()\n",
    "# display(cum_visits_pivot)\n",
    "\n",
    "# Compute the conversion rate from the visits and order_count pivot tables\n",
    "conversion_rate_pivot = order_count_pivot/visits_pivot\n",
    "display(conversion_rate_pivot)\n",
    "\n",
    "# Plot each groups' conversion rate on the same graph\n",
    "plt.figure(figsize=(12, 6))\n",
    "\n",
    "# Plot the conversion rate of group A\n",
    "plt.plot(conversion_rate_pivot.index, conversion_rate_pivot['A'], label='Group A')\n",
    "# Plot the conversion rate of group B\n",
    "plt.plot(conversion_rate_pivot.index, conversion_rate_pivot['B'], label='Group B')\n",
    "\n",
    "plt.title('Daily conversion rates by groups \\n'\n",
    "          '(Ratio of order counts to the number of visits for each day)', fontsize=18)\n",
    "plt.xlabel('Date', fontsize=16)\n",
    "plt.ylabel('Daily conversion rates', fontsize=16)\n",
    "plt.legend(fontsize=14)\n",
    "plt.grid()\n",
    "plt.xticks(rotation=45, fontsize=14)\n",
    "plt.yticks(fontsize=14)\n",
    "plt.show()\n"
   ]
  },
  {
   "cell_type": "markdown",
   "metadata": {},
   "source": [
    "The daily conversion rates of both groups fluctuate strongly throughout the entire month. Thus, it is hard to compare the performance of the groups with each other."
   ]
  },
  {
   "cell_type": "code",
   "execution_count": 22,
   "metadata": {},
   "outputs": [
    {
     "data": {
      "text/html": [
       "<div>\n",
       "<style scoped>\n",
       "    .dataframe tbody tr th:only-of-type {\n",
       "        vertical-align: middle;\n",
       "    }\n",
       "\n",
       "    .dataframe tbody tr th {\n",
       "        vertical-align: top;\n",
       "    }\n",
       "\n",
       "    .dataframe thead th {\n",
       "        text-align: right;\n",
       "    }\n",
       "</style>\n",
       "<table border=\"1\" class=\"dataframe\">\n",
       "  <thead>\n",
       "    <tr style=\"text-align: right;\">\n",
       "      <th>group</th>\n",
       "      <th>A</th>\n",
       "      <th>B</th>\n",
       "    </tr>\n",
       "    <tr>\n",
       "      <th>date</th>\n",
       "      <th></th>\n",
       "      <th></th>\n",
       "    </tr>\n",
       "  </thead>\n",
       "  <tbody>\n",
       "    <tr>\n",
       "      <td>2019-08-01</td>\n",
       "      <td>0.032033</td>\n",
       "      <td>0.023977</td>\n",
       "    </tr>\n",
       "    <tr>\n",
       "      <td>2019-08-02</td>\n",
       "      <td>0.031437</td>\n",
       "      <td>0.031032</td>\n",
       "    </tr>\n",
       "    <tr>\n",
       "      <td>2019-08-03</td>\n",
       "      <td>0.035850</td>\n",
       "      <td>0.030117</td>\n",
       "    </tr>\n",
       "    <tr>\n",
       "      <td>2019-08-04</td>\n",
       "      <td>0.030137</td>\n",
       "      <td>0.026562</td>\n",
       "    </tr>\n",
       "    <tr>\n",
       "      <td>2019-08-05</td>\n",
       "      <td>0.029918</td>\n",
       "      <td>0.027267</td>\n",
       "    </tr>\n",
       "    <tr>\n",
       "      <td>2019-08-06</td>\n",
       "      <td>0.028708</td>\n",
       "      <td>0.028593</td>\n",
       "    </tr>\n",
       "    <tr>\n",
       "      <td>2019-08-07</td>\n",
       "      <td>0.028175</td>\n",
       "      <td>0.029196</td>\n",
       "    </tr>\n",
       "    <tr>\n",
       "      <td>2019-08-08</td>\n",
       "      <td>0.027591</td>\n",
       "      <td>0.029774</td>\n",
       "    </tr>\n",
       "    <tr>\n",
       "      <td>2019-08-09</td>\n",
       "      <td>0.026587</td>\n",
       "      <td>0.029922</td>\n",
       "    </tr>\n",
       "    <tr>\n",
       "      <td>2019-08-10</td>\n",
       "      <td>0.027265</td>\n",
       "      <td>0.031685</td>\n",
       "    </tr>\n",
       "    <tr>\n",
       "      <td>2019-08-11</td>\n",
       "      <td>0.026036</td>\n",
       "      <td>0.030151</td>\n",
       "    </tr>\n",
       "    <tr>\n",
       "      <td>2019-08-12</td>\n",
       "      <td>0.026515</td>\n",
       "      <td>0.030505</td>\n",
       "    </tr>\n",
       "    <tr>\n",
       "      <td>2019-08-13</td>\n",
       "      <td>0.025833</td>\n",
       "      <td>0.030120</td>\n",
       "    </tr>\n",
       "    <tr>\n",
       "      <td>2019-08-14</td>\n",
       "      <td>0.025627</td>\n",
       "      <td>0.029196</td>\n",
       "    </tr>\n",
       "    <tr>\n",
       "      <td>2019-08-15</td>\n",
       "      <td>0.025000</td>\n",
       "      <td>0.030268</td>\n",
       "    </tr>\n",
       "    <tr>\n",
       "      <td>2019-08-16</td>\n",
       "      <td>0.025900</td>\n",
       "      <td>0.030833</td>\n",
       "    </tr>\n",
       "    <tr>\n",
       "      <td>2019-08-17</td>\n",
       "      <td>0.025456</td>\n",
       "      <td>0.030837</td>\n",
       "    </tr>\n",
       "    <tr>\n",
       "      <td>2019-08-18</td>\n",
       "      <td>0.025099</td>\n",
       "      <td>0.029430</td>\n",
       "    </tr>\n",
       "    <tr>\n",
       "      <td>2019-08-19</td>\n",
       "      <td>0.025829</td>\n",
       "      <td>0.030021</td>\n",
       "    </tr>\n",
       "    <tr>\n",
       "      <td>2019-08-20</td>\n",
       "      <td>0.025438</td>\n",
       "      <td>0.030296</td>\n",
       "    </tr>\n",
       "    <tr>\n",
       "      <td>2019-08-21</td>\n",
       "      <td>0.025721</td>\n",
       "      <td>0.029685</td>\n",
       "    </tr>\n",
       "    <tr>\n",
       "      <td>2019-08-22</td>\n",
       "      <td>0.025302</td>\n",
       "      <td>0.029816</td>\n",
       "    </tr>\n",
       "    <tr>\n",
       "      <td>2019-08-23</td>\n",
       "      <td>0.025894</td>\n",
       "      <td>0.029588</td>\n",
       "    </tr>\n",
       "    <tr>\n",
       "      <td>2019-08-24</td>\n",
       "      <td>0.026098</td>\n",
       "      <td>0.029795</td>\n",
       "    </tr>\n",
       "    <tr>\n",
       "      <td>2019-08-25</td>\n",
       "      <td>0.025550</td>\n",
       "      <td>0.029259</td>\n",
       "    </tr>\n",
       "    <tr>\n",
       "      <td>2019-08-26</td>\n",
       "      <td>0.025401</td>\n",
       "      <td>0.029410</td>\n",
       "    </tr>\n",
       "    <tr>\n",
       "      <td>2019-08-27</td>\n",
       "      <td>0.025707</td>\n",
       "      <td>0.028796</td>\n",
       "    </tr>\n",
       "    <tr>\n",
       "      <td>2019-08-28</td>\n",
       "      <td>0.025697</td>\n",
       "      <td>0.028986</td>\n",
       "    </tr>\n",
       "    <tr>\n",
       "      <td>2019-08-29</td>\n",
       "      <td>NaN</td>\n",
       "      <td>NaN</td>\n",
       "    </tr>\n",
       "    <tr>\n",
       "      <td>2019-08-30</td>\n",
       "      <td>NaN</td>\n",
       "      <td>NaN</td>\n",
       "    </tr>\n",
       "    <tr>\n",
       "      <td>2019-08-31</td>\n",
       "      <td>NaN</td>\n",
       "      <td>NaN</td>\n",
       "    </tr>\n",
       "  </tbody>\n",
       "</table>\n",
       "</div>"
      ],
      "text/plain": [
       "group              A         B\n",
       "date                          \n",
       "2019-08-01  0.032033  0.023977\n",
       "2019-08-02  0.031437  0.031032\n",
       "2019-08-03  0.035850  0.030117\n",
       "2019-08-04  0.030137  0.026562\n",
       "2019-08-05  0.029918  0.027267\n",
       "2019-08-06  0.028708  0.028593\n",
       "2019-08-07  0.028175  0.029196\n",
       "2019-08-08  0.027591  0.029774\n",
       "2019-08-09  0.026587  0.029922\n",
       "2019-08-10  0.027265  0.031685\n",
       "2019-08-11  0.026036  0.030151\n",
       "2019-08-12  0.026515  0.030505\n",
       "2019-08-13  0.025833  0.030120\n",
       "2019-08-14  0.025627  0.029196\n",
       "2019-08-15  0.025000  0.030268\n",
       "2019-08-16  0.025900  0.030833\n",
       "2019-08-17  0.025456  0.030837\n",
       "2019-08-18  0.025099  0.029430\n",
       "2019-08-19  0.025829  0.030021\n",
       "2019-08-20  0.025438  0.030296\n",
       "2019-08-21  0.025721  0.029685\n",
       "2019-08-22  0.025302  0.029816\n",
       "2019-08-23  0.025894  0.029588\n",
       "2019-08-24  0.026098  0.029795\n",
       "2019-08-25  0.025550  0.029259\n",
       "2019-08-26  0.025401  0.029410\n",
       "2019-08-27  0.025707  0.028796\n",
       "2019-08-28  0.025697  0.028986\n",
       "2019-08-29       NaN       NaN\n",
       "2019-08-30       NaN       NaN\n",
       "2019-08-31       NaN       NaN"
      ]
     },
     "metadata": {},
     "output_type": "display_data"
    },
    {
     "data": {
      "image/png": "[encoded data removed]",
      "text/plain": [
       "<Figure size 864x432 with 1 Axes>"
      ]
     },
     "metadata": {
      "needs_background": "light"
     },
     "output_type": "display_data"
    }
   ],
   "source": [
    "# Compute the cumulative conversion rates from the cumulative visits and cumulative order_count pivot tables.\n",
    "# cum_conversion_rate_pivot = cum_visits_pivot/cum_order_count_pivot\n",
    "cum_conversion_rate_pivot = cum_order_count_pivot/cum_visits_pivot\n",
    "display(cum_conversion_rate_pivot)\n",
    "\n",
    "# Plot each groups' cumulative conversion rate on the same graph\n",
    "plt.figure(figsize=(12, 6))\n",
    "\n",
    "# Plot the cumulative conversion rate of group A\n",
    "plt.plot(cum_conversion_rate_pivot.index, cum_conversion_rate_pivot['A'], label='Group A')\n",
    "# Plot the cumulative conversion rate of group B\n",
    "plt.plot(cum_conversion_rate_pivot.index, cum_conversion_rate_pivot['B'], label='Group B')\n",
    "\n",
    "plt.title('Cumulative conversion rates till given date by groups \\n'\n",
    "          '(Ratio of cumulative order counts to the cumulative number of visits)', fontsize=18)\n",
    "plt.xlabel('Date', fontsize=16)\n",
    "plt.ylabel('Cumulative conversion rates', fontsize=16)\n",
    "plt.legend(fontsize=14)\n",
    "plt.grid()\n",
    "plt.xticks(rotation=45, fontsize=14)\n",
    "plt.yticks(fontsize=14)\n",
    "plt.show()\n"
   ]
  },
  {
   "cell_type": "markdown",
   "metadata": {},
   "source": [
    "As opposed to the daily conversion rates, the cumulative conversion rates fluctuates strongly only in the first few days of the month. After the first few days, the conversion rate of group B rose and stabilizes around the band of 2.8% to 3%, while the conversion rates of group B drops and stabilizes just below the threshold of 2.6%."
   ]
  },
  {
   "cell_type": "code",
   "execution_count": 23,
   "metadata": {
    "scrolled": false
   },
   "outputs": [
    {
     "data": {
      "text/html": [
       "<div>\n",
       "<style scoped>\n",
       "    .dataframe tbody tr th:only-of-type {\n",
       "        vertical-align: middle;\n",
       "    }\n",
       "\n",
       "    .dataframe tbody tr th {\n",
       "        vertical-align: top;\n",
       "    }\n",
       "\n",
       "    .dataframe thead th {\n",
       "        text-align: right;\n",
       "    }\n",
       "</style>\n",
       "<table border=\"1\" class=\"dataframe\">\n",
       "  <thead>\n",
       "    <tr style=\"text-align: right;\">\n",
       "      <th></th>\n",
       "      <th>relative_diff</th>\n",
       "    </tr>\n",
       "    <tr>\n",
       "      <th>date</th>\n",
       "      <th></th>\n",
       "    </tr>\n",
       "  </thead>\n",
       "  <tbody>\n",
       "    <tr>\n",
       "      <td>2019-08-01</td>\n",
       "      <td>-0.251487</td>\n",
       "    </tr>\n",
       "    <tr>\n",
       "      <td>2019-08-02</td>\n",
       "      <td>-0.012893</td>\n",
       "    </tr>\n",
       "    <tr>\n",
       "      <td>2019-08-03</td>\n",
       "      <td>-0.159915</td>\n",
       "    </tr>\n",
       "    <tr>\n",
       "      <td>2019-08-04</td>\n",
       "      <td>-0.118608</td>\n",
       "    </tr>\n",
       "    <tr>\n",
       "      <td>2019-08-05</td>\n",
       "      <td>-0.088616</td>\n",
       "    </tr>\n",
       "    <tr>\n",
       "      <td>2019-08-06</td>\n",
       "      <td>-0.004000</td>\n",
       "    </tr>\n",
       "    <tr>\n",
       "      <td>2019-08-07</td>\n",
       "      <td>0.036216</td>\n",
       "    </tr>\n",
       "    <tr>\n",
       "      <td>2019-08-08</td>\n",
       "      <td>0.079112</td>\n",
       "    </tr>\n",
       "    <tr>\n",
       "      <td>2019-08-09</td>\n",
       "      <td>0.125446</td>\n",
       "    </tr>\n",
       "    <tr>\n",
       "      <td>2019-08-10</td>\n",
       "      <td>0.162097</td>\n",
       "    </tr>\n",
       "    <tr>\n",
       "      <td>2019-08-11</td>\n",
       "      <td>0.158055</td>\n",
       "    </tr>\n",
       "    <tr>\n",
       "      <td>2019-08-12</td>\n",
       "      <td>0.150491</td>\n",
       "    </tr>\n",
       "    <tr>\n",
       "      <td>2019-08-13</td>\n",
       "      <td>0.165944</td>\n",
       "    </tr>\n",
       "    <tr>\n",
       "      <td>2019-08-14</td>\n",
       "      <td>0.139286</td>\n",
       "    </tr>\n",
       "    <tr>\n",
       "      <td>2019-08-15</td>\n",
       "      <td>0.210725</td>\n",
       "    </tr>\n",
       "    <tr>\n",
       "      <td>2019-08-16</td>\n",
       "      <td>0.190447</td>\n",
       "    </tr>\n",
       "    <tr>\n",
       "      <td>2019-08-17</td>\n",
       "      <td>0.211387</td>\n",
       "    </tr>\n",
       "    <tr>\n",
       "      <td>2019-08-18</td>\n",
       "      <td>0.172554</td>\n",
       "    </tr>\n",
       "    <tr>\n",
       "      <td>2019-08-19</td>\n",
       "      <td>0.162273</td>\n",
       "    </tr>\n",
       "    <tr>\n",
       "      <td>2019-08-20</td>\n",
       "      <td>0.190939</td>\n",
       "    </tr>\n",
       "    <tr>\n",
       "      <td>2019-08-21</td>\n",
       "      <td>0.154113</td>\n",
       "    </tr>\n",
       "    <tr>\n",
       "      <td>2019-08-22</td>\n",
       "      <td>0.178405</td>\n",
       "    </tr>\n",
       "    <tr>\n",
       "      <td>2019-08-23</td>\n",
       "      <td>0.142654</td>\n",
       "    </tr>\n",
       "    <tr>\n",
       "      <td>2019-08-24</td>\n",
       "      <td>0.141647</td>\n",
       "    </tr>\n",
       "    <tr>\n",
       "      <td>2019-08-25</td>\n",
       "      <td>0.145190</td>\n",
       "    </tr>\n",
       "    <tr>\n",
       "      <td>2019-08-26</td>\n",
       "      <td>0.157829</td>\n",
       "    </tr>\n",
       "    <tr>\n",
       "      <td>2019-08-27</td>\n",
       "      <td>0.120150</td>\n",
       "    </tr>\n",
       "    <tr>\n",
       "      <td>2019-08-28</td>\n",
       "      <td>0.127997</td>\n",
       "    </tr>\n",
       "    <tr>\n",
       "      <td>2019-08-29</td>\n",
       "      <td>NaN</td>\n",
       "    </tr>\n",
       "    <tr>\n",
       "      <td>2019-08-30</td>\n",
       "      <td>NaN</td>\n",
       "    </tr>\n",
       "    <tr>\n",
       "      <td>2019-08-31</td>\n",
       "      <td>NaN</td>\n",
       "    </tr>\n",
       "  </tbody>\n",
       "</table>\n",
       "</div>"
      ],
      "text/plain": [
       "            relative_diff\n",
       "date                     \n",
       "2019-08-01      -0.251487\n",
       "2019-08-02      -0.012893\n",
       "2019-08-03      -0.159915\n",
       "2019-08-04      -0.118608\n",
       "2019-08-05      -0.088616\n",
       "2019-08-06      -0.004000\n",
       "2019-08-07       0.036216\n",
       "2019-08-08       0.079112\n",
       "2019-08-09       0.125446\n",
       "2019-08-10       0.162097\n",
       "2019-08-11       0.158055\n",
       "2019-08-12       0.150491\n",
       "2019-08-13       0.165944\n",
       "2019-08-14       0.139286\n",
       "2019-08-15       0.210725\n",
       "2019-08-16       0.190447\n",
       "2019-08-17       0.211387\n",
       "2019-08-18       0.172554\n",
       "2019-08-19       0.162273\n",
       "2019-08-20       0.190939\n",
       "2019-08-21       0.154113\n",
       "2019-08-22       0.178405\n",
       "2019-08-23       0.142654\n",
       "2019-08-24       0.141647\n",
       "2019-08-25       0.145190\n",
       "2019-08-26       0.157829\n",
       "2019-08-27       0.120150\n",
       "2019-08-28       0.127997\n",
       "2019-08-29            NaN\n",
       "2019-08-30            NaN\n",
       "2019-08-31            NaN"
      ]
     },
     "metadata": {},
     "output_type": "display_data"
    },
    {
     "data": {
      "image/png": "[encoded data removed]",
      "text/plain": [
       "<Figure size 864x432 with 1 Axes>"
      ]
     },
     "metadata": {
      "needs_background": "light"
     },
     "output_type": "display_data"
    }
   ],
   "source": [
    "# Compute the relative difference for the cumulative conversion rates\n",
    "\n",
    "rel_diff_cum_conversion_rate = cum_conversion_rate_pivot['B']/cum_conversion_rate_pivot['A'] - 1\n",
    "display(rel_diff_cum_conversion_rate.to_frame(name='relative_diff'))\n",
    "\n",
    "# Plot the relative difference for the cumulative conversion rates\n",
    "plt.figure(figsize=(12, 6))\n",
    "plt.plot(rel_diff_cum_conversion_rate.index, rel_diff_cum_conversion_rate)\n",
    "\n",
    "plt.title('Relative difference in cumulative conversion rates \\n'\n",
    "          'for group B compared with group A', fontsize=18)\n",
    "plt.xlabel('Date', fontsize=16)\n",
    "plt.ylabel('Relative difference', fontsize=16) \n",
    "plt.xticks(rotation=45, fontsize=14)\n",
    "plt.yticks(fontsize=14)\n",
    "plt.grid()\n",
    "\n",
    "# adding a horizontal axis with the axhline() method\n",
    "plt.axhline(y=0, color='red', linestyle='--')\n",
    "plt.axhline(y=-0.126, color='green', linestyle='--')\n",
    "\n",
    "plt.axis([dt.datetime.strptime('2019-08-01', '%Y-%m-%d'), \n",
    "          dt.datetime.strptime('2019-08-30', '%Y-%m-%d'), -0.5, 0.5])\n",
    "plt.show()\n"
   ]
  },
  {
   "cell_type": "markdown",
   "metadata": {},
   "source": [
    "Until the 7th day of the test, group B was lagging behind group A in terms of conversion rate, but the conversion rate of group A kept falling (except a surge in the third day). Then, group B took the lead and the conversion rate of group A continued to drop until the 10th day of the month. After that the conversion ratio seems to have stabilized. Nevertheless, before drawing conclusions about the test, we should study more closely the outliers and their impact on the test results. "
   ]
  },
  {
   "cell_type": "markdown",
   "metadata": {},
   "source": [
    "#### Step 2.3 Outlier analysis in orders and prices <a class=\"anchor\" id=\"step2_3\"></a>  "
   ]
  },
  {
   "cell_type": "markdown",
   "metadata": {},
   "source": [
    "In this step we study the outliers in the number of orders per visitors and the order prices. In particular, we identify the 95th and 99th percentiles to define the thresholds from which onward data points can be treated as anomalies. For the analysis, we use the original dataset (without visitors in both groups removed). "
   ]
  },
  {
   "cell_type": "markdown",
   "metadata": {},
   "source": [
    "**Number of orders per user:** "
   ]
  },
  {
   "cell_type": "code",
   "execution_count": 24,
   "metadata": {},
   "outputs": [
    {
     "data": {
      "text/html": [
       "<div>\n",
       "<style scoped>\n",
       "    .dataframe tbody tr th:only-of-type {\n",
       "        vertical-align: middle;\n",
       "    }\n",
       "\n",
       "    .dataframe tbody tr th {\n",
       "        vertical-align: top;\n",
       "    }\n",
       "\n",
       "    .dataframe thead th {\n",
       "        text-align: right;\n",
       "    }\n",
       "</style>\n",
       "<table border=\"1\" class=\"dataframe\">\n",
       "  <thead>\n",
       "    <tr style=\"text-align: right;\">\n",
       "      <th></th>\n",
       "      <th>transactionId</th>\n",
       "      <th>visitorId</th>\n",
       "      <th>date</th>\n",
       "      <th>revenue</th>\n",
       "      <th>group</th>\n",
       "    </tr>\n",
       "  </thead>\n",
       "  <tbody>\n",
       "    <tr>\n",
       "      <td>0</td>\n",
       "      <td>3667963787</td>\n",
       "      <td>3312258926</td>\n",
       "      <td>2019-08-15</td>\n",
       "      <td>30.4</td>\n",
       "      <td>B</td>\n",
       "    </tr>\n",
       "    <tr>\n",
       "      <td>1</td>\n",
       "      <td>2804400009</td>\n",
       "      <td>3642806036</td>\n",
       "      <td>2019-08-15</td>\n",
       "      <td>15.2</td>\n",
       "      <td>B</td>\n",
       "    </tr>\n",
       "    <tr>\n",
       "      <td>2</td>\n",
       "      <td>2961555356</td>\n",
       "      <td>4069496402</td>\n",
       "      <td>2019-08-15</td>\n",
       "      <td>10.2</td>\n",
       "      <td>A</td>\n",
       "    </tr>\n",
       "    <tr>\n",
       "      <td>3</td>\n",
       "      <td>3797467345</td>\n",
       "      <td>1196621759</td>\n",
       "      <td>2019-08-15</td>\n",
       "      <td>155.1</td>\n",
       "      <td>B</td>\n",
       "    </tr>\n",
       "    <tr>\n",
       "      <td>4</td>\n",
       "      <td>2282983706</td>\n",
       "      <td>2322279887</td>\n",
       "      <td>2019-08-15</td>\n",
       "      <td>40.5</td>\n",
       "      <td>B</td>\n",
       "    </tr>\n",
       "  </tbody>\n",
       "</table>\n",
       "</div>"
      ],
      "text/plain": [
       "   transactionId   visitorId       date  revenue group\n",
       "0     3667963787  3312258926 2019-08-15     30.4     B\n",
       "1     2804400009  3642806036 2019-08-15     15.2     B\n",
       "2     2961555356  4069496402 2019-08-15     10.2     A\n",
       "3     3797467345  1196621759 2019-08-15    155.1     B\n",
       "4     2282983706  2322279887 2019-08-15     40.5     B"
      ]
     },
     "execution_count": 24,
     "metadata": {},
     "output_type": "execute_result"
    }
   ],
   "source": [
    "orders.head()"
   ]
  },
  {
   "cell_type": "code",
   "execution_count": 25,
   "metadata": {},
   "outputs": [
    {
     "data": {
      "image/png": "[encoded data removed]",
      "text/plain": [
       "<Figure size 1440x576 with 2 Axes>"
      ]
     },
     "metadata": {
      "needs_background": "light"
     },
     "output_type": "display_data"
    },
    {
     "name": "stdout",
     "output_type": "stream",
     "text": [
      "The 95th and 99th percentiles for the number of orders per user are: [2. 4.]\n"
     ]
    }
   ],
   "source": [
    "# Compute the number of orders for each visitor.\n",
    "orders_per_visitor = orders.groupby(by='visitorId').agg({'transactionId':'nunique'}).reset_index()\n",
    "orders_per_visitor = orders_per_visitor.sort_values(by='transactionId')\n",
    "# display(orders_per_visitor.head())\n",
    "\n",
    "# Show scatter plot of the number of orders per visitors\n",
    "fig, ax = plt.subplots(1, 2, figsize=(20,8), gridspec_kw={'width_ratios': [1.5, 1]})\n",
    "\n",
    "x_values = pd.Series(range(0, len(orders_per_visitor['transactionId'])))\n",
    "sns.scatterplot(x_values, orders_per_visitor['transactionId'], s = 100, ax = ax[0])\n",
    "ax[0].set_title('Scatterplot of the number of orders per visitor', fontsize=16)\n",
    "ax[0].set_xlabel('Visitors ids (mapped to start from 0)', fontsize=14)\n",
    "ax[0].set_ylabel('Number of orders', fontsize=14)\n",
    "ax[0].tick_params(axis='both', labelsize=14)\n",
    "ax[0].grid()\n",
    "ax[0].set_yticks(range(0, 13))\n",
    "# Compute the number of visitors per number of orders.\n",
    "visitors_per_orders = orders_per_visitor.groupby(by='transactionId').agg({'visitorId':'count'}).reset_index()\n",
    "# display(visitors_per_orders)\n",
    "\n",
    "# Show barplot of the number of orders per visitors\n",
    "sns.barplot(y='transactionId', x='visitorId', data=visitors_per_orders, orient='h', color='C0', ax=ax[1])\n",
    "ax[1].set_title('Barplot of the number of visitors by placed orders',\n",
    "          fontsize=16)\n",
    "ax[1].set_xlabel('Number of visitors', fontsize=14)\n",
    "ax[1].set_ylabel('Number of orders', fontsize=14)\n",
    "ax[1].tick_params(axis='both', labelsize=14)\n",
    "ax[1].grid()\n",
    "ax[1].invert_yaxis()\n",
    "ax[1].set_xlim(right=1200)\n",
    "\n",
    "# create a list to collect the plt.patches data\n",
    "totals = []\n",
    "\n",
    "# find the values and append to list\n",
    "for i in ax[1].patches:\n",
    "    totals.append(i.get_width())\n",
    "\n",
    "# set individual bar lables using above list\n",
    "total = sum(totals)\n",
    "\n",
    "# set individual bar lables using above list\n",
    "for i in ax[1].patches:\n",
    "    # get_width pulls left or right; get_y pushes up or down\n",
    "    ax[1].text(i.get_width()+20, i.get_y()+.3, \\\n",
    "            str(round((i.get_width()/total)*100, 2))+'%', fontsize=15,\n",
    "color='black')\n",
    "\n",
    "plt.show()\n",
    "\n",
    "# Get the 95th and 99th percentiles using np.percentile() method\n",
    "orders_per_visitor_perc = np.percentile(orders_per_visitor['transactionId'], [95, 99])\n",
    "\n",
    "print('The 95th and 99th percentiles for the number of orders per user are:', \n",
    "      orders_per_visitor_perc) \n"
   ]
  },
  {
   "cell_type": "markdown",
   "metadata": {},
   "source": [
    "From the scatter plot, it is clear that most of the visitors placed only one orders. In fact, as the barplot shows, that amounts to almost 91% of the visitors. We can also see that about 6% places 2 orders and about 1.65% placed 3 orders. The remaining 1% of the visitors placed however up to 11 orders. The percentiles we found are also naturally in line with the observed behavior: nearly 95% of the time, visitors placed less than 2 orders, and nearly 99% ıf the time, they placed less than 4 orders. We can thus consider visitors who placed more than 3 orders as exceptional cases."
   ]
  },
  {
   "cell_type": "markdown",
   "metadata": {},
   "source": [
    "**Order prices:**"
   ]
  },
  {
   "cell_type": "code",
   "execution_count": 26,
   "metadata": {},
   "outputs": [
    {
     "data": {
      "image/png": "[encoded data removed]",
      "text/plain": [
       "<Figure size 864x432 with 1 Axes>"
      ]
     },
     "metadata": {
      "needs_background": "light"
     },
     "output_type": "display_data"
    }
   ],
   "source": [
    "# Show scatter plot of the orders prices\n",
    "plt.figure(figsize=(12,6))\n",
    "x_values = pd.Series(range(0, len(orders['revenue'])))\n",
    "plt.scatter(x_values, orders['revenue'], s = 50)\n",
    "plt.title('Order prices', fontsize=16)\n",
    "plt.xlabel('Order ids (mapped to start from 0)', fontsize=14)\n",
    "plt.ylabel('Prices (US dollars)', fontsize=14)\n",
    "plt.xticks(fontsize=14)\n",
    "plt.yticks(fontsize=14)\n",
    "plt.grid()\n",
    "plt.show()\n"
   ]
  },
  {
   "cell_type": "markdown",
   "metadata": {},
   "source": [
    "As in the case of the number of orders per visitors, there are also exceptional cases in the revenues generated from some orders. In fact, we had already observed this in the data preprocessing step. As it is not very clear from the plot what happens for orders whose revenues are below 2500 US dollars, let us replot the scatter plot setting the y-axis limit to that threshold. We also compute the perentiles. "
   ]
  },
  {
   "cell_type": "code",
   "execution_count": 27,
   "metadata": {},
   "outputs": [
    {
     "data": {
      "image/png": "[encoded data removed]",
      "text/plain": [
       "<Figure size 864x432 with 1 Axes>"
      ]
     },
     "metadata": {
      "needs_background": "light"
     },
     "output_type": "display_data"
    },
    {
     "name": "stdout",
     "output_type": "stream",
     "text": [
      "The 95th and 99th percentiles of order prices are 436 and 901 US dollars\n"
     ]
    }
   ],
   "source": [
    "# Show scatter plot of the order prices for up to 2500 US dollars\n",
    "plt.figure(figsize=(12,6))\n",
    "x_values = pd.Series(range(0, len(orders['revenue'])))\n",
    "plt.scatter(x_values, orders['revenue'], s = 50)\n",
    "\n",
    "plt.title('Order prices', fontsize=16)\n",
    "plt.xlabel('Order ids (mapped to start from 0)', fontsize=14)\n",
    "plt.ylabel('Prices (US dollars)', fontsize=14)\n",
    "plt.xticks(fontsize=14)\n",
    "plt.yticks(fontsize=14)\n",
    "plt.ylim(top=2500)\n",
    "plt.ylim(bottom=-150)\n",
    "plt.grid()\n",
    "plt.show()\n",
    "\n",
    "# Get the 95th and 99th percentiles using np.percentile() method\n",
    "order_prices_perc = np.percentile(orders['revenue'], [95, 99]).round(0).astype('int')\n",
    "\n",
    "print('The 95th and 99th percentiles of order prices are {} and {} US dollars'.format(\n",
    "      order_prices_perc[0], order_prices_perc[1]))"
   ]
  },
  {
   "cell_type": "markdown",
   "metadata": {},
   "source": [
    "Now we observe that the revenue from the majority of the orders remained below 1000 US dollars. In fact, the 99th percentile is returned as approximately 901 US dollars. To remove the outliers, we will later need to identify the visitor ids of those users whose number of orders and/or order prices do not fall within the \"expected\" typical range. Based on the graphs and percentiles we found, let us defined the typical range as follows: up to and including 3 orders per visitors and up to and including 1000 US dollars per orders. Thus, a data point is treated as an anomaly either when visitors placed 4 or more orders or when the price of an order exceeded 1000 US dollars. "
   ]
  },
  {
   "cell_type": "markdown",
   "metadata": {},
   "source": [
    "#### Step 2.4 Statistical significance of the difference in performance between groups <a class=\"anchor\" id=\"step2_4\"></a>  "
   ]
  },
  {
   "cell_type": "markdown",
   "metadata": {},
   "source": [
    "In this step we analyse the statistical significance of the difference in conversion rates and order sizes between group A and group B. We first carry out the computations using raw data. Then, we repeat the same computations with data in which the outlier values (based on the 99th percentile values we identified in the previous step) are removed. In testing the hypothesis of equal proportions for our groups' performance \n",
    "\n",
    "Here we used the cleaned datasets (with visitors assigned to both groups removed)."
   ]
  },
  {
   "cell_type": "markdown",
   "metadata": {},
   "source": [
    "**Statistical significance of the difference in conversion rates and order sizes with raw data:**"
   ]
  },
  {
   "cell_type": "markdown",
   "metadata": {},
   "source": [
    "We first find the aforementioned statistical significances with raw data."
   ]
  },
  {
   "cell_type": "code",
   "execution_count": 28,
   "metadata": {},
   "outputs": [],
   "source": [
    "ordersByUsersA = (orders_cleaned.loc[orders_cleaned['group']=='A']\n",
    "                  .groupby('visitorId', as_index=False)\n",
    "                  .agg({'transactionId' : pd.Series.nunique}))\n",
    "\n",
    "ordersByUsersA.columns = ['visitorId', 'orders']\n",
    "\n",
    "ordersByUsersB = (orders_cleaned.loc[orders_cleaned['group']=='B']\n",
    "                  .groupby('visitorId', as_index=False)\n",
    "                  .agg({'transactionId' : pd.Series.nunique}))\n",
    "ordersByUsersB.columns = ['visitorId', 'orders']\n",
    "\n",
    "sampleA = pd.concat([ordersByUsersA['orders'],\n",
    "                     pd.Series(0, index=np.arange(\n",
    "                         visits_cleaned[visits_cleaned['group']=='A']['visits'].sum() \n",
    "                         - len(ordersByUsersA['orders'])), name='orders')],axis=0)\n",
    "\n",
    "sampleB = pd.concat([ordersByUsersB['orders'],\n",
    "                     pd.Series(0, index=np.arange(\n",
    "                         visits_cleaned[visits_cleaned['group']=='B']['visits'].sum() \n",
    "                         - len(ordersByUsersB['orders'])), name='orders')],axis=0)\n"
   ]
  },
  {
   "cell_type": "markdown",
   "metadata": {},
   "source": [
    "We have gathered the data we need to test the hypotheses. We formulate the null and alternative hypotheses as follows:\n",
    "- **Null Hypothesis:** There isn't a statistically significant difference in conversion rates between the group A and group B.\n",
    "- **Alternative Hypothesis:** The difference in conversion rates of the groups A and B are statistically significant. "
   ]
  },
  {
   "cell_type": "code",
   "execution_count": 29,
   "metadata": {},
   "outputs": [
    {
     "name": "stdout",
     "output_type": "stream",
     "text": [
      "The relative conversion gain for group B is 0.158.\n",
      "p-value of Wilcoxon-Mann-Whitney non-parametric test for convertion rate samples is 0.006\n",
      "Rejecting the null hypothesis: there is a significant difference between the groups' convertion rates.\n"
     ]
    }
   ],
   "source": [
    "print(\"The relative conversion gain for group B is {0:.3f}.\".format(sampleB.mean()/sampleA.mean()-1)) \n",
    "\n",
    "\n",
    "p_value = st.mannwhitneyu(sampleA, sampleB)[1]\n",
    "print(\"p-value of Wilcoxon-Mann-Whitney non-parametric test for convertion rate samples is {0:.3f}\".format(p_value))\n",
    "\n",
    "alpha = 0.05\n",
    "if (p_value < alpha):\n",
    "    print(\"Rejecting the null hypothesis: there is a significant difference between the groups' convertion rates.\")\n",
    "else:\n",
    "    print(\"Failed to reject the null hypothesis: we can't make conclusions about the difference in \" \n",
    "          \"the groups' convertion rates.\") \n"
   ]
  },
  {
   "cell_type": "markdown",
   "metadata": {},
   "source": [
    "The relative gain in convertion rate of group B is 16%. Moreover, based on the p-value of 0.006, which is smaller than 0.05, we can reject the null hypothesis that there's not a statistically significant difference in conversion between the groups.\n",
    "\n",
    "Let us check what happens for order sizes."
   ]
  },
  {
   "cell_type": "markdown",
   "metadata": {},
   "source": [
    "This time, we formulate the null and alternative hypotheses as follows:\n",
    "- **Null Hypothesis:** There isn't a statistically significant difference in order sizes between the groups A and B.\n",
    "- **Alternative Hypothesis:** The difference between order sizes of the groups A and B are statistically significant. "
   ]
  },
  {
   "cell_type": "code",
   "execution_count": 30,
   "metadata": {},
   "outputs": [
    {
     "name": "stdout",
     "output_type": "stream",
     "text": [
      "The relative order size for group B is 0.278.\n",
      "p-value of Wilcoxon-Mann-Whitney non-parametric test for order size samples is 0.431\n",
      "Failed to reject the null hypothesis: we can't make conclusions about the difference in the groups' order sizes.\n"
     ]
    }
   ],
   "source": [
    "print('The relative order size for group B is {0:.3f}.'.format(\n",
    "    orders_cleaned[orders_cleaned['group']=='B']['revenue'].mean()\n",
    "    /orders_cleaned[orders_cleaned['group']=='A']['revenue'].mean()-1))\n",
    "\n",
    "p_value = (st.mannwhitneyu(orders_cleaned[orders_cleaned['group']=='A']['revenue'], \n",
    "                                       orders_cleaned[orders_cleaned['group']=='B']['revenue'])[1])\n",
    "\n",
    "print(\"p-value of Wilcoxon-Mann-Whitney non-parametric test for order size samples is {0:.3f}\".format(p_value))\n",
    "\n",
    "alpha = 0.05\n",
    "if (p_value < alpha):\n",
    "    print(\"Rejecting the null hypothesis: there is a significant difference between the groups' order sizes.\")\n",
    "else:\n",
    "    print(\"Failed to reject the null hypothesis: we can't make conclusions about the difference in \"\n",
    "          \"the groups' order sizes.\") \n"
   ]
  },
  {
   "cell_type": "markdown",
   "metadata": {},
   "source": [
    "The average order size for group B is much larger than the one for group A. However, since the p-value of 0.431 is much larger than the threshold 0.05, we can't reject the null hypothesis. We thus cannot conclude that there is a statistically significant difference in the groups' order sizes. "
   ]
  },
  {
   "cell_type": "markdown",
   "metadata": {},
   "source": [
    "Based on the hypothesis tests we carried out with raw data, we cannot decide yet if the performed A/B test was successful or not. Let us see if removing the outliers will clarify the picture."
   ]
  },
  {
   "cell_type": "markdown",
   "metadata": {},
   "source": [
    "**Statistical significance of the difference in conversion rates and order sizes with filtered data:**"
   ]
  },
  {
   "cell_type": "markdown",
   "metadata": {},
   "source": [
    "Here, we will redo the statistical significance computations, but this time leaving out the outliers in data. Recall that we have identified in the previous step the 99th percentile of the number of orders per visitors as 4 and the 99th percentile of the order prices as 901 US dollars. \n",
    "\n",
    "To remove the outliers, we need to find the visitor ids of those users whose number of orders and/or order prices do not fall within the \"expected\" typical range. Recall that we defined the typical range as follows: up to and including 3 orders per visitors and up to and including 1000 US dollars per orders. Therefore, we will filter out from raw data the visitors who placed 4 or more orders and/or whose order price is more than 1000 US dollars. Below, we identify the visitor ids of such visitors."
   ]
  },
  {
   "cell_type": "code",
   "execution_count": 31,
   "metadata": {},
   "outputs": [
    {
     "name": "stdout",
     "output_type": "stream",
     "text": [
      "The following 9 visitors displayed atypical behaviors in their number of orders and order prices behavior:\n",
      "1099     148427295\n",
      "744      888512513\n",
      "1103    1164614297\n",
      "1136    1307669133\n",
      "858     1316129916\n",
      "425     1920142716\n",
      "1196    2108080724\n",
      "743     4133034833\n",
      "662     4266935830\n",
      "Name: visitorId, dtype: int64\n"
     ]
    }
   ],
   "source": [
    "usersWithManyOrders = pd.concat([ordersByUsersA[ordersByUsersA['orders'] > 4]['visitorId'], \n",
    "                                 ordersByUsersB[ordersByUsersB['orders'] > 4]['visitorId']], axis = 0)\n",
    "usersWithExpensiveOrders = orders[orders['revenue'] > 1000]['visitorId']\n",
    "abnormalUsers = pd.concat([usersWithManyOrders, usersWithExpensiveOrders], axis = 0).drop_duplicates().sort_values()\n",
    "print('The following {} visitors displayed atypical behaviors in their number of orders and order prices behavior:'\n",
    "      .format(abnormalUsers.shape[0]))\n",
    "print(abnormalUsers)\n"
   ]
  },
  {
   "cell_type": "code",
   "execution_count": 32,
   "metadata": {},
   "outputs": [],
   "source": [
    "sampleAFiltered = pd.concat([ordersByUsersA[np.logical_not(ordersByUsersA['visitorId']\n",
    "                                                           .isin(abnormalUsers))]['orders'],\n",
    "                             pd.Series(0, index=np.arange(\n",
    "                                 visits_cleaned[visits_cleaned['group']=='A']['visits'].sum() \n",
    "                                 - len(ordersByUsersA['orders'])),name='orders')],axis=0)\n",
    "\n",
    "sampleBFiltered = pd.concat([ordersByUsersB[np.logical_not(ordersByUsersB['visitorId']\n",
    "                                                           .isin(abnormalUsers))]['orders'],\n",
    "                             pd.Series(0, index=np.arange(\n",
    "                                 visits_cleaned[visits_cleaned['group']=='B']['visits'].sum()\n",
    "                                 - len(ordersByUsersB['orders'])),name='orders')],axis=0)\n"
   ]
  },
  {
   "cell_type": "markdown",
   "metadata": {},
   "source": [
    "We have filtered anomalies from raw data and now we will test our hypotheses again. As before we first test the following null and alternative hypotheses:\n",
    "- **Null Hypothesis:** There isn't a statistically significant difference in conversion rates between the groups A and  B (based on filtered data).\n",
    "- **Alternative Hypothesis:** The difference in conversion rates of the groups A and B are statistically significant (based on filtered data). "
   ]
  },
  {
   "cell_type": "code",
   "execution_count": 33,
   "metadata": {},
   "outputs": [
    {
     "name": "stdout",
     "output_type": "stream",
     "text": [
      "The relative conversion gain for group B is -0.139.\n",
      "p-value of Wilcoxon-Mann-Whitney non-parametric test for convertion rate samples is 0.005\n",
      "Rejecting the null hypothesis: there is a significant difference between the groups' convertion rates.\n"
     ]
    }
   ],
   "source": [
    "print(\"The relative conversion gain for group B is {0:.3f}.\".format(sampleAFiltered.mean()/sampleBFiltered.mean()-1)) \n",
    "\n",
    "\n",
    "p_value = st.mannwhitneyu(sampleAFiltered, sampleBFiltered)[1]\n",
    "print(\"p-value of Wilcoxon-Mann-Whitney non-parametric test for convertion rate samples is {0:.3f}\".format(p_value))\n",
    "\n",
    "alpha = 0.05\n",
    "if (p_value < alpha):\n",
    "    print(\"Rejecting the null hypothesis: there is a significant difference between the groups' convertion rates.\")\n",
    "else:\n",
    "    print(\"Failed to reject the null hypothesis: we can't make conclusions about the difference in \" \n",
    "          \"the groups' convertion rates.\") \n"
   ]
  },
  {
   "cell_type": "markdown",
   "metadata": {},
   "source": [
    "After filtering out the anomalies, the previously found relative gain of 16% for group B in convertion rate changed to a relative loss of 14%. Nevertheless, our conclusion about the statistical significance in differences in convertion rates did not change. We can still reject the null hypothesis and conclude that there is a difference in the groups's convertion rates. Let us also check how the results for order size are affected."
   ]
  },
  {
   "cell_type": "markdown",
   "metadata": {},
   "source": [
    "This time we test the following null and alternative hypotheses:\n",
    "- **Null Hypothesis:** There isn't a statistically significant difference in order sizes between the groups A and B (based on filtered data).\n",
    "- **Alternative Hypothesis:** The difference between order sizes of the group A and group B are statistically significant (based on filtered data).  "
   ]
  },
  {
   "cell_type": "code",
   "execution_count": 34,
   "metadata": {},
   "outputs": [
    {
     "name": "stdout",
     "output_type": "stream",
     "text": [
      "The relative order size for group B is 0.017.\n",
      "p-value of Wilcoxon-Mann-Whitney non-parametric test for order size samples is 0.464\n",
      "Failed to reject the null hypothesis: we can't make conclusions about the difference in the groups' order sizes.\n"
     ]
    }
   ],
   "source": [
    "print('The relative order size for group B is {0:.3f}.'.format(\n",
    "    orders[np.logical_and(orders['group']=='B',\n",
    "                          np.logical_not(orders['visitorId']\n",
    "                                         .isin(abnormalUsers)))]['revenue'].mean()/\n",
    "    orders[np.logical_and(orders['group']=='A',\n",
    "                          np.logical_not(orders['visitorId']\n",
    "                                         .isin(abnormalUsers)))]['revenue'].mean() - 1))\n",
    "\n",
    "p_value = (st.mannwhitneyu(\n",
    "    orders_cleaned[np.logical_and(\n",
    "        orders_cleaned['group']=='A',\n",
    "        np.logical_not(orders_cleaned['visitorId'].isin(abnormalUsers)))]['revenue'],\n",
    "    orders_cleaned[np.logical_and(\n",
    "        orders_cleaned['group']=='B',\n",
    "        np.logical_not(orders_cleaned['visitorId'].isin(abnormalUsers)))]['revenue'])[1])\n",
    "\n",
    "print(\"p-value of Wilcoxon-Mann-Whitney non-parametric test for order size samples is {0:.3f}\".format(p_value))\n",
    "\n",
    "alpha = 0.05\n",
    "if (p_value < alpha):\n",
    "    print(\"Rejecting the null hypothesis: there is a significant difference between the groups' order sizes.\")\n",
    "else:\n",
    "    print(\"Failed to reject the null hypothesis: we can't make conclusions about the difference in \"\n",
    "          \"the groups' order sizes.\") \n"
   ]
  },
  {
   "cell_type": "markdown",
   "metadata": {},
   "source": [
    "The average order size for group B is now only slightly larger than the one for group A. As for the convertion rates, our conclusion about the difference in order sizes for the groups did also not change. Based on filtered data, we still cannot reject the null hypothesis. Thus, we conclude that there is no difference in the group's order sizes. "
   ]
  },
  {
   "cell_type": "markdown",
   "metadata": {},
   "source": [
    "<a class=\"anchor\" id=\"step3\"></a> \n",
    "### Step 3. General Conclusions"
   ]
  },
  {
   "cell_type": "markdown",
   "metadata": {},
   "source": [
    "In this project, we first prioritized hypotheses for an A/B test. We prioritized the hypotheses based on the ICE and RICE frameworks. We found out that the list of the top priority hypotheses depends on the scoring framework used. Then in several steps, we proceeded with the analysis of the results of a launched A/B test over the period of a month. Here are the conclusions we can draw from this test:\n",
    "- Both raw and filtered data revealed that there is a statistically significant difference in the conversion rates between the groups.\n",
    "- Actually, the plotted difference in conversion between the groups shows us that group B is the leader at the end of the test and the results seem to have stabilized.\n",
    "- However, neither raw nor filtered data revealed any statistically significant difference in the average order sizes between the groups.\n",
    "- In addition, the plotted difference in average order size between the groups shows us that group B's results are steadily worsening even if they are currently about 30% better than group A's results. In fact, after removing large outliers for order prices, the average order sizes of both groups became almost equal.  "
   ]
  },
  {
   "cell_type": "markdown",
   "metadata": {},
   "source": [
    "**Decision about the success of the A/B test:** Based on the above facts, we conclude that the test can be stopped. \n",
    "Although at the end of the test, we have not identified the existence of a statistically significant difference in the average revenues generated between the orders of both groups, group B is clearly more successful in converting visitors to buyers. As the probability that group A will become better than group B is extremely low, there's no use in continuing the test. We can declare group B as the leader. "
   ]
  },
  {
   "cell_type": "code",
   "execution_count": null,
   "metadata": {},
   "outputs": [],
   "source": []
  }
 ],
 "metadata": {
  "ExecuteTimeLog": [
   {
    "duration": 1525,
    "start_time": "2021-07-08T00:10:34.620Z"
   },
   {
    "duration": 4,
    "start_time": "2021-07-08T00:10:36.148Z"
   },
   {
    "duration": 408,
    "start_time": "2021-07-08T00:10:36.162Z"
   },
   {
    "duration": 5,
    "start_time": "2021-07-08T00:10:36.573Z"
   },
   {
    "duration": 106,
    "start_time": "2021-07-08T00:10:36.580Z"
   },
   {
    "duration": 11,
    "start_time": "2021-07-08T00:10:36.688Z"
   },
   {
    "duration": 31,
    "start_time": "2021-07-08T00:10:36.702Z"
   },
   {
    "duration": 18,
    "start_time": "2021-07-08T00:10:36.737Z"
   },
   {
    "duration": 583,
    "start_time": "2021-07-08T00:10:36.758Z"
   },
   {
    "duration": 230,
    "start_time": "2021-07-08T00:10:37.344Z"
   },
   {
    "duration": 267,
    "start_time": "2021-07-08T00:10:37.576Z"
   },
   {
    "duration": 7,
    "start_time": "2021-07-08T00:10:37.845Z"
   },
   {
    "duration": 299,
    "start_time": "2021-07-08T00:10:37.854Z"
   },
   {
    "duration": 811,
    "start_time": "2021-07-08T00:10:38.156Z"
   },
   {
    "duration": 26,
    "start_time": "2021-07-08T00:10:38.970Z"
   },
   {
    "duration": 395,
    "start_time": "2021-07-08T00:10:38.998Z"
   },
   {
    "duration": 513,
    "start_time": "2021-07-08T00:10:39.395Z"
   },
   {
    "duration": 498,
    "start_time": "2021-07-08T00:10:39.910Z"
   },
   {
    "duration": 552,
    "start_time": "2021-07-08T00:10:40.410Z"
   },
   {
    "duration": 508,
    "start_time": "2021-07-08T00:10:40.964Z"
   },
   {
    "duration": 481,
    "start_time": "2021-07-08T00:10:41.474Z"
   },
   {
    "duration": 593,
    "start_time": "2021-07-08T00:10:41.958Z"
   },
   {
    "duration": 17,
    "start_time": "2021-07-08T00:10:42.556Z"
   },
   {
    "duration": 915,
    "start_time": "2021-07-08T00:10:42.576Z"
   },
   {
    "duration": 502,
    "start_time": "2021-07-08T00:10:43.493Z"
   },
   {
    "duration": 500,
    "start_time": "2021-07-08T00:10:43.998Z"
   },
   {
    "duration": 240,
    "start_time": "2021-07-08T00:10:44.501Z"
   },
   {
    "duration": 20,
    "start_time": "2021-07-08T00:10:44.743Z"
   },
   {
    "duration": 16,
    "start_time": "2021-07-08T00:10:44.765Z"
   },
   {
    "duration": 14,
    "start_time": "2021-07-08T00:10:44.784Z"
   },
   {
    "duration": 16,
    "start_time": "2021-07-08T00:10:44.801Z"
   },
   {
    "duration": 10,
    "start_time": "2021-07-08T00:10:44.862Z"
   },
   {
    "duration": 30,
    "start_time": "2021-07-08T00:10:44.875Z"
   },
   {
    "duration": 6,
    "start_time": "2021-07-08T00:18:28.883Z"
   },
   {
    "duration": 1560,
    "start_time": "2021-07-08T00:18:45.670Z"
   },
   {
    "duration": 4,
    "start_time": "2021-07-08T00:18:47.232Z"
   },
   {
    "duration": 390,
    "start_time": "2021-07-08T00:18:47.238Z"
   },
   {
    "duration": 5,
    "start_time": "2021-07-08T00:18:47.630Z"
   },
   {
    "duration": 121,
    "start_time": "2021-07-08T00:18:47.637Z"
   },
   {
    "duration": 11,
    "start_time": "2021-07-08T00:18:47.761Z"
   },
   {
    "duration": 25,
    "start_time": "2021-07-08T00:18:47.774Z"
   },
   {
    "duration": 28,
    "start_time": "2021-07-08T00:18:47.802Z"
   },
   {
    "duration": 534,
    "start_time": "2021-07-08T00:18:47.834Z"
   },
   {
    "duration": 195,
    "start_time": "2021-07-08T00:18:48.371Z"
   },
   {
    "duration": 218,
    "start_time": "2021-07-08T00:18:48.568Z"
   },
   {
    "duration": 6,
    "start_time": "2021-07-08T00:18:48.788Z"
   },
   {
    "duration": 254,
    "start_time": "2021-07-08T00:18:48.797Z"
   },
   {
    "duration": 802,
    "start_time": "2021-07-08T00:18:49.053Z"
   },
   {
    "duration": 26,
    "start_time": "2021-07-08T00:18:49.858Z"
   },
   {
    "duration": 337,
    "start_time": "2021-07-08T00:18:49.887Z"
   },
   {
    "duration": 511,
    "start_time": "2021-07-08T00:18:50.226Z"
   },
   {
    "duration": 515,
    "start_time": "2021-07-08T00:18:50.740Z"
   },
   {
    "duration": 533,
    "start_time": "2021-07-08T00:18:51.257Z"
   },
   {
    "duration": 510,
    "start_time": "2021-07-08T00:18:51.793Z"
   },
   {
    "duration": 489,
    "start_time": "2021-07-08T00:18:52.306Z"
   },
   {
    "duration": 678,
    "start_time": "2021-07-08T00:18:52.798Z"
   },
   {
    "duration": 18,
    "start_time": "2021-07-08T00:18:53.479Z"
   },
   {
    "duration": 1291,
    "start_time": "2021-07-08T00:18:53.500Z"
   },
   {
    "duration": 697,
    "start_time": "2021-07-08T00:18:54.794Z"
   },
   {
    "duration": 738,
    "start_time": "2021-07-08T00:18:55.494Z"
   },
   {
    "duration": 254,
    "start_time": "2021-07-08T00:18:56.239Z"
   },
   {
    "duration": 13,
    "start_time": "2021-07-08T00:18:56.496Z"
   },
   {
    "duration": 18,
    "start_time": "2021-07-08T00:18:56.512Z"
   },
   {
    "duration": 16,
    "start_time": "2021-07-08T00:18:56.563Z"
   },
   {
    "duration": 16,
    "start_time": "2021-07-08T00:18:56.581Z"
   },
   {
    "duration": 19,
    "start_time": "2021-07-08T00:18:56.599Z"
   },
   {
    "duration": 49,
    "start_time": "2021-07-08T00:18:56.621Z"
   },
   {
    "duration": 1589,
    "start_time": "2021-07-08T10:49:28.978Z"
   },
   {
    "duration": 5,
    "start_time": "2021-07-08T10:49:30.570Z"
   },
   {
    "duration": 364,
    "start_time": "2021-07-08T10:49:30.578Z"
   },
   {
    "duration": 6,
    "start_time": "2021-07-08T10:49:30.945Z"
   },
   {
    "duration": 120,
    "start_time": "2021-07-08T10:49:30.953Z"
   },
   {
    "duration": 12,
    "start_time": "2021-07-08T10:49:31.076Z"
   },
   {
    "duration": 36,
    "start_time": "2021-07-08T10:49:31.090Z"
   },
   {
    "duration": 18,
    "start_time": "2021-07-08T10:49:31.130Z"
   },
   {
    "duration": 722,
    "start_time": "2021-07-08T10:49:31.151Z"
   },
   {
    "duration": 275,
    "start_time": "2021-07-08T10:49:31.876Z"
   },
   {
    "duration": 227,
    "start_time": "2021-07-08T10:49:32.153Z"
   },
   {
    "duration": 6,
    "start_time": "2021-07-08T10:49:32.382Z"
   },
   {
    "duration": 218,
    "start_time": "2021-07-08T10:49:32.391Z"
   },
   {
    "duration": 1178,
    "start_time": "2021-07-08T10:49:32.612Z"
   },
   {
    "duration": 30,
    "start_time": "2021-07-08T10:49:33.792Z"
   },
   {
    "duration": 471,
    "start_time": "2021-07-08T10:49:33.825Z"
   },
   {
    "duration": 542,
    "start_time": "2021-07-08T10:49:34.298Z"
   },
   {
    "duration": 519,
    "start_time": "2021-07-08T10:49:34.843Z"
   },
   {
    "duration": 542,
    "start_time": "2021-07-08T10:49:35.364Z"
   },
   {
    "duration": 517,
    "start_time": "2021-07-08T10:49:35.908Z"
   },
   {
    "duration": 502,
    "start_time": "2021-07-08T10:49:36.427Z"
   },
   {
    "duration": 679,
    "start_time": "2021-07-08T10:49:36.931Z"
   },
   {
    "duration": 14,
    "start_time": "2021-07-08T10:49:37.615Z"
   },
   {
    "duration": 1014,
    "start_time": "2021-07-08T10:49:37.632Z"
   },
   {
    "duration": 692,
    "start_time": "2021-07-08T10:49:38.648Z"
   },
   {
    "duration": 586,
    "start_time": "2021-07-08T10:49:39.342Z"
   },
   {
    "duration": 262,
    "start_time": "2021-07-08T10:49:39.931Z"
   },
   {
    "duration": 13,
    "start_time": "2021-07-08T10:49:40.195Z"
   },
   {
    "duration": 17,
    "start_time": "2021-07-08T10:49:40.210Z"
   },
   {
    "duration": 15,
    "start_time": "2021-07-08T10:49:40.230Z"
   },
   {
    "duration": 52,
    "start_time": "2021-07-08T10:49:40.247Z"
   },
   {
    "duration": 13,
    "start_time": "2021-07-08T10:49:40.302Z"
   },
   {
    "duration": 28,
    "start_time": "2021-07-08T10:49:40.318Z"
   },
   {
    "duration": 1372,
    "start_time": "2021-07-09T02:35:43.084Z"
   },
   {
    "duration": 4,
    "start_time": "2021-07-09T02:35:44.459Z"
   },
   {
    "duration": 327,
    "start_time": "2021-07-09T02:35:44.466Z"
   },
   {
    "duration": 5,
    "start_time": "2021-07-09T02:35:44.796Z"
   },
   {
    "duration": 103,
    "start_time": "2021-07-09T02:35:44.804Z"
   },
   {
    "duration": 11,
    "start_time": "2021-07-09T02:35:44.910Z"
   },
   {
    "duration": 18,
    "start_time": "2021-07-09T02:35:44.923Z"
   },
   {
    "duration": 18,
    "start_time": "2021-07-09T02:35:44.945Z"
   },
   {
    "duration": 699,
    "start_time": "2021-07-09T02:35:44.966Z"
   },
   {
    "duration": 171,
    "start_time": "2021-07-09T02:35:45.668Z"
   },
   {
    "duration": 205,
    "start_time": "2021-07-09T02:35:45.841Z"
   },
   {
    "duration": 6,
    "start_time": "2021-07-09T02:35:46.048Z"
   },
   {
    "duration": 193,
    "start_time": "2021-07-09T02:35:46.056Z"
   },
   {
    "duration": 770,
    "start_time": "2021-07-09T02:35:46.251Z"
   },
   {
    "duration": 24,
    "start_time": "2021-07-09T02:35:47.023Z"
   },
   {
    "duration": 316,
    "start_time": "2021-07-09T02:35:47.050Z"
   },
   {
    "duration": 471,
    "start_time": "2021-07-09T02:35:47.368Z"
   },
   {
    "duration": 477,
    "start_time": "2021-07-09T02:35:47.841Z"
   },
   {
    "duration": 553,
    "start_time": "2021-07-09T02:35:48.320Z"
   },
   {
    "duration": 472,
    "start_time": "2021-07-09T02:35:48.875Z"
   },
   {
    "duration": 454,
    "start_time": "2021-07-09T02:35:49.350Z"
   },
   {
    "duration": 577,
    "start_time": "2021-07-09T02:35:49.806Z"
   },
   {
    "duration": 15,
    "start_time": "2021-07-09T02:35:50.400Z"
   },
   {
    "duration": 897,
    "start_time": "2021-07-09T02:35:50.418Z"
   },
   {
    "duration": 489,
    "start_time": "2021-07-09T02:35:51.318Z"
   },
   {
    "duration": 496,
    "start_time": "2021-07-09T02:35:51.811Z"
   },
   {
    "duration": 205,
    "start_time": "2021-07-09T02:35:52.310Z"
   },
   {
    "duration": 13,
    "start_time": "2021-07-09T02:35:52.517Z"
   },
   {
    "duration": 20,
    "start_time": "2021-07-09T02:35:52.533Z"
   },
   {
    "duration": 45,
    "start_time": "2021-07-09T02:35:52.556Z"
   },
   {
    "duration": 27,
    "start_time": "2021-07-09T02:35:52.604Z"
   },
   {
    "duration": 26,
    "start_time": "2021-07-09T02:35:52.634Z"
   },
   {
    "duration": 21,
    "start_time": "2021-07-09T02:35:52.663Z"
   },
   {
    "duration": 2592,
    "start_time": "2021-07-09T07:50:09.610Z"
   },
   {
    "duration": 4,
    "start_time": "2021-07-09T07:50:12.205Z"
   },
   {
    "duration": 295,
    "start_time": "2021-07-09T07:50:12.213Z"
   },
   {
    "duration": 5,
    "start_time": "2021-07-09T07:50:12.510Z"
   },
   {
    "duration": 94,
    "start_time": "2021-07-09T07:50:12.518Z"
   },
   {
    "duration": 10,
    "start_time": "2021-07-09T07:50:12.616Z"
   },
   {
    "duration": 75,
    "start_time": "2021-07-09T07:50:12.629Z"
   },
   {
    "duration": 16,
    "start_time": "2021-07-09T07:50:12.707Z"
   },
   {
    "duration": 493,
    "start_time": "2021-07-09T07:50:12.728Z"
   },
   {
    "duration": 189,
    "start_time": "2021-07-09T07:50:13.226Z"
   },
   {
    "duration": 212,
    "start_time": "2021-07-09T07:50:13.417Z"
   },
   {
    "duration": 8,
    "start_time": "2021-07-09T07:50:13.637Z"
   },
   {
    "duration": 198,
    "start_time": "2021-07-09T07:50:13.648Z"
   },
   {
    "duration": 1589,
    "start_time": "2021-07-09T07:50:13.849Z"
   },
   {
    "duration": 83,
    "start_time": "2021-07-09T07:50:15.441Z"
   },
   {
    "duration": 436,
    "start_time": "2021-07-09T07:50:15.526Z"
   },
   {
    "duration": 1041,
    "start_time": "2021-07-09T07:50:15.965Z"
   },
   {
    "duration": 1025,
    "start_time": "2021-07-09T07:50:17.008Z"
   },
   {
    "duration": 998,
    "start_time": "2021-07-09T07:50:18.036Z"
   },
   {
    "duration": 1010,
    "start_time": "2021-07-09T07:50:19.037Z"
   },
   {
    "duration": 919,
    "start_time": "2021-07-09T07:50:20.102Z"
   },
   {
    "duration": 1283,
    "start_time": "2021-07-09T07:50:21.024Z"
   },
   {
    "duration": 14,
    "start_time": "2021-07-09T07:50:22.310Z"
   },
   {
    "duration": 1718,
    "start_time": "2021-07-09T07:50:22.326Z"
   },
   {
    "duration": 889,
    "start_time": "2021-07-09T07:50:24.046Z"
   },
   {
    "duration": 895,
    "start_time": "2021-07-09T07:50:24.938Z"
   },
   {
    "duration": 563,
    "start_time": "2021-07-09T07:50:25.838Z"
   },
   {
    "duration": 12,
    "start_time": "2021-07-09T07:50:26.405Z"
   },
   {
    "duration": 88,
    "start_time": "2021-07-09T07:50:26.420Z"
   },
   {
    "duration": 17,
    "start_time": "2021-07-09T07:50:26.511Z"
   },
   {
    "duration": 76,
    "start_time": "2021-07-09T07:50:26.531Z"
   },
   {
    "duration": 13,
    "start_time": "2021-07-09T07:50:26.610Z"
   },
   {
    "duration": 87,
    "start_time": "2021-07-09T07:50:26.626Z"
   },
   {
    "duration": 1479,
    "start_time": "2021-07-10T22:52:13.160Z"
   },
   {
    "duration": 4,
    "start_time": "2021-07-10T22:52:14.642Z"
   },
   {
    "duration": 361,
    "start_time": "2021-07-10T22:52:14.649Z"
   },
   {
    "duration": 5,
    "start_time": "2021-07-10T22:52:15.013Z"
   },
   {
    "duration": 141,
    "start_time": "2021-07-10T22:52:15.020Z"
   },
   {
    "duration": 12,
    "start_time": "2021-07-10T22:52:15.163Z"
   },
   {
    "duration": 19,
    "start_time": "2021-07-10T22:52:15.177Z"
   },
   {
    "duration": 17,
    "start_time": "2021-07-10T22:52:15.199Z"
   },
   {
    "duration": 476,
    "start_time": "2021-07-10T22:52:15.220Z"
   },
   {
    "duration": 215,
    "start_time": "2021-07-10T22:52:15.699Z"
   },
   {
    "duration": 255,
    "start_time": "2021-07-10T22:52:15.917Z"
   },
   {
    "duration": 8,
    "start_time": "2021-07-10T22:52:16.175Z"
   },
   {
    "duration": 224,
    "start_time": "2021-07-10T22:52:16.186Z"
   },
   {
    "duration": 1168,
    "start_time": "2021-07-10T22:52:16.414Z"
   },
   {
    "duration": 35,
    "start_time": "2021-07-10T22:52:17.586Z"
   },
   {
    "duration": 385,
    "start_time": "2021-07-10T22:52:17.624Z"
   },
   {
    "duration": 718,
    "start_time": "2021-07-10T22:52:18.012Z"
   },
   {
    "duration": 1006,
    "start_time": "2021-07-10T22:52:18.734Z"
   },
   {
    "duration": 722,
    "start_time": "2021-07-10T22:52:19.744Z"
   },
   {
    "duration": 804,
    "start_time": "2021-07-10T22:52:20.470Z"
   },
   {
    "duration": 689,
    "start_time": "2021-07-10T22:52:21.278Z"
   },
   {
    "duration": 932,
    "start_time": "2021-07-10T22:52:21.970Z"
   },
   {
    "duration": 20,
    "start_time": "2021-07-10T22:52:22.906Z"
   },
   {
    "duration": 1309,
    "start_time": "2021-07-10T22:52:22.929Z"
   },
   {
    "duration": 699,
    "start_time": "2021-07-10T22:52:24.242Z"
   },
   {
    "duration": 699,
    "start_time": "2021-07-10T22:52:24.944Z"
   },
   {
    "duration": 366,
    "start_time": "2021-07-10T22:52:25.651Z"
   },
   {
    "duration": 13,
    "start_time": "2021-07-10T22:52:26.021Z"
   },
   {
    "duration": 37,
    "start_time": "2021-07-10T22:52:26.036Z"
   },
   {
    "duration": 15,
    "start_time": "2021-07-10T22:52:26.076Z"
   },
   {
    "duration": 15,
    "start_time": "2021-07-10T22:52:26.093Z"
   },
   {
    "duration": 53,
    "start_time": "2021-07-10T22:52:26.111Z"
   },
   {
    "duration": 22,
    "start_time": "2021-07-10T22:52:26.166Z"
   },
   {
    "duration": 537,
    "start_time": "2021-07-10T23:16:12.409Z"
   },
   {
    "duration": 487,
    "start_time": "2021-07-10T23:16:35.737Z"
   },
   {
    "duration": 498,
    "start_time": "2021-07-10T23:17:31.487Z"
   },
   {
    "duration": 567,
    "start_time": "2021-07-10T23:21:33.518Z"
   },
   {
    "duration": 279,
    "start_time": "2021-07-10T23:37:48.267Z"
   },
   {
    "duration": 488,
    "start_time": "2021-07-10T23:37:53.383Z"
   },
   {
    "duration": 383,
    "start_time": "2021-07-10T23:38:14.909Z"
   },
   {
    "duration": 492,
    "start_time": "2021-07-10T23:38:31.019Z"
   },
   {
    "duration": 395,
    "start_time": "2021-07-10T23:38:35.878Z"
   },
   {
    "duration": 380,
    "start_time": "2021-07-10T23:38:38.890Z"
   },
   {
    "duration": 391,
    "start_time": "2021-07-10T23:38:44.823Z"
   },
   {
    "duration": 527,
    "start_time": "2021-07-10T23:39:02.115Z"
   },
   {
    "duration": 443,
    "start_time": "2021-07-10T23:39:10.722Z"
   },
   {
    "duration": 439,
    "start_time": "2021-07-10T23:39:18.916Z"
   },
   {
    "duration": 466,
    "start_time": "2021-07-10T23:39:25.826Z"
   },
   {
    "duration": 470,
    "start_time": "2021-07-10T23:39:39.471Z"
   },
   {
    "duration": 455,
    "start_time": "2021-07-10T23:40:51.278Z"
   },
   {
    "duration": 455,
    "start_time": "2021-07-10T23:40:57.410Z"
   },
   {
    "duration": 477,
    "start_time": "2021-07-10T23:41:15.577Z"
   },
   {
    "duration": 622,
    "start_time": "2021-07-10T23:41:23.119Z"
   },
   {
    "duration": 466,
    "start_time": "2021-07-10T23:41:33.920Z"
   },
   {
    "duration": 580,
    "start_time": "2021-07-10T23:41:50.482Z"
   },
   {
    "duration": 625,
    "start_time": "2021-07-10T23:41:52.967Z"
   },
   {
    "duration": 499,
    "start_time": "2021-07-10T23:41:58.710Z"
   },
   {
    "duration": 490,
    "start_time": "2021-07-10T23:42:00.931Z"
   },
   {
    "duration": 475,
    "start_time": "2021-07-10T23:42:15.360Z"
   },
   {
    "duration": 500,
    "start_time": "2021-07-10T23:43:10.147Z"
   },
   {
    "duration": 474,
    "start_time": "2021-07-10T23:43:18.714Z"
   },
   {
    "duration": 434,
    "start_time": "2021-07-10T23:43:24.496Z"
   },
   {
    "duration": 510,
    "start_time": "2021-07-10T23:44:00.049Z"
   },
   {
    "duration": 769,
    "start_time": "2021-07-10T23:44:10.404Z"
   },
   {
    "duration": 806,
    "start_time": "2021-07-10T23:45:27.782Z"
   },
   {
    "duration": 678,
    "start_time": "2021-07-10T23:45:39.200Z"
   },
   {
    "duration": 673,
    "start_time": "2021-07-10T23:45:41.164Z"
   },
   {
    "duration": 225,
    "start_time": "2021-07-11T00:16:10.793Z"
   },
   {
    "duration": 234,
    "start_time": "2021-07-11T00:17:18.591Z"
   },
   {
    "duration": 1119,
    "start_time": "2021-07-12T16:03:12.244Z"
   },
   {
    "duration": 2,
    "start_time": "2021-07-12T16:03:13.365Z"
   },
   {
    "duration": 334,
    "start_time": "2021-07-12T16:03:13.371Z"
   },
   {
    "duration": 4,
    "start_time": "2021-07-12T16:03:13.706Z"
   },
   {
    "duration": 113,
    "start_time": "2021-07-12T16:03:13.712Z"
   },
   {
    "duration": 7,
    "start_time": "2021-07-12T16:03:13.827Z"
   },
   {
    "duration": 23,
    "start_time": "2021-07-12T16:03:13.838Z"
   },
   {
    "duration": 10,
    "start_time": "2021-07-12T16:03:13.864Z"
   },
   {
    "duration": 350,
    "start_time": "2021-07-12T16:03:13.876Z"
   },
   {
    "duration": 510,
    "start_time": "2021-07-12T16:03:14.229Z"
   },
   {
    "duration": 188,
    "start_time": "2021-07-12T16:03:14.740Z"
   },
   {
    "duration": 195,
    "start_time": "2021-07-12T16:03:14.930Z"
   },
   {
    "duration": 4,
    "start_time": "2021-07-12T16:03:15.127Z"
   },
   {
    "duration": 192,
    "start_time": "2021-07-12T16:03:15.132Z"
   },
   {
    "duration": 486,
    "start_time": "2021-07-12T16:03:15.326Z"
   },
   {
    "duration": 26,
    "start_time": "2021-07-12T16:03:15.815Z"
   },
   {
    "duration": 288,
    "start_time": "2021-07-12T16:03:15.844Z"
   },
   {
    "duration": 323,
    "start_time": "2021-07-12T16:03:16.134Z"
   },
   {
    "duration": 304,
    "start_time": "2021-07-12T16:03:16.459Z"
   },
   {
    "duration": 356,
    "start_time": "2021-07-12T16:03:16.765Z"
   },
   {
    "duration": 320,
    "start_time": "2021-07-12T16:03:17.123Z"
   },
   {
    "duration": 304,
    "start_time": "2021-07-12T16:03:17.446Z"
   },
   {
    "duration": 446,
    "start_time": "2021-07-12T16:03:17.752Z"
   },
   {
    "duration": 10,
    "start_time": "2021-07-12T16:03:18.200Z"
   },
   {
    "duration": 658,
    "start_time": "2021-07-12T16:03:18.212Z"
   },
   {
    "duration": 373,
    "start_time": "2021-07-12T16:03:18.873Z"
   },
   {
    "duration": 385,
    "start_time": "2021-07-12T16:03:19.249Z"
   },
   {
    "duration": 138,
    "start_time": "2021-07-12T16:03:19.636Z"
   },
   {
    "duration": 7,
    "start_time": "2021-07-12T16:03:19.776Z"
   },
   {
    "duration": 14,
    "start_time": "2021-07-12T16:03:19.785Z"
   },
   {
    "duration": 15,
    "start_time": "2021-07-12T16:03:19.800Z"
   },
   {
    "duration": 33,
    "start_time": "2021-07-12T16:03:19.816Z"
   },
   {
    "duration": 15,
    "start_time": "2021-07-12T16:03:19.851Z"
   },
   {
    "duration": 14,
    "start_time": "2021-07-12T16:03:19.867Z"
   }
  ],
  "kernelspec": {
   "display_name": "Python 3 (ipykernel)",
   "language": "python",
   "name": "python3"
  },
  "language_info": {
   "codemirror_mode": {
    "name": "ipython",
    "version": 3
   },
   "file_extension": ".py",
   "mimetype": "text/x-python",
   "name": "python",
   "nbconvert_exporter": "python",
   "pygments_lexer": "ipython3",
   "version": "3.8.12"
  },
  "toc": {
   "base_numbering": 1,
   "nav_menu": {},
   "number_sections": true,
   "sideBar": true,
   "skip_h1_title": true,
   "title_cell": "Table of Contents",
   "title_sidebar": "Contents",
   "toc_cell": false,
   "toc_position": {},
   "toc_section_display": true,
   "toc_window_display": false
  }
 },
 "nbformat": 4,
 "nbformat_minor": 4
}
