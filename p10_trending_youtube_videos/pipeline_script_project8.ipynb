{
 "cells": [
  {
   "cell_type": "markdown",
   "metadata": {},
   "source": [
    "## Pipeline script for trending Youtube videos dashboard"
   ]
  },
  {
   "cell_type": "code",
   "execution_count": 1,
   "metadata": {},
   "outputs": [],
   "source": [
    "#!/usr/bin/python\n",
    "\n",
    "# Importing libraries\n",
    "import pandas as pd\n",
    "from sqlalchemy import create_engine\n",
    "\n",
    "# Defining parameters for connecting to the database;\n",
    "# you can request them from the database administrator.\n",
    "db_config = {'user': 'my_user',         # username\n",
    "             'pwd': 'my_user_password', # password\n",
    "             'host': 'localhost',       # server address\n",
    "             'port': 5432,              # connection port\n",
    "             'db': 'Youtube_trending_videos'}             # database name\n",
    "\n",
    "# Creating the database connection string. \n",
    "connection_string = 'postgresql://{}:{}@{}:{}/{}'.format(db_config['user'],\n",
    "                                                                     db_config['pwd'],\n",
    "                                                                       db_config['host'],\n",
    "                                                                       db_config['port'],\n",
    "                                                                       db_config['db'])\n",
    "# Connecting to the database.\n",
    "engine = create_engine(connection_string)\n",
    "\n",
    "# Creating an SQL query.\n",
    "query = ''' SELECT *\n",
    "            FROM trending_vidoes\n",
    "        '''\n",
    "\n",
    "# Running the query and storing the result\n",
    "# in the DataFrame.\n",
    "# SQLAlchemy will automatically give the columns\n",
    "# the same names that they have in the database table. We'll just have to\n",
    "# specify the index column using index_col.\n",
    "trending_vidoes = pd.io.sql.read_sql(query, con = engine, index_col = 'record_id')\n",
    "\n",
    "print(trending_vidoes.head(10))\n"
   ]
  }
 ],
 "metadata": {
  "kernelspec": {
   "display_name": "Python 3",
   "language": "python",
   "name": "python3"
  },
  "language_info": {
   "codemirror_mode": {
    "name": "ipython",
    "version": 3
   },
   "file_extension": ".py",
   "mimetype": "text/x-python",
   "name": "python",
   "nbconvert_exporter": "python",
   "pygments_lexer": "ipython3",
   "version": "3.8.3"
  }
 },
 "nbformat": 4,
 "nbformat_minor": 4
}
